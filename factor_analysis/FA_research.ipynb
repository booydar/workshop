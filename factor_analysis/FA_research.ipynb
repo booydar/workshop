{
 "cells": [
  {
   "cell_type": "code",
   "execution_count": 1,
   "metadata": {},
   "outputs": [],
   "source": [
    "import pandas as pd\n",
    "import numpy as np\n",
    "import seaborn as sns\n",
    "import matplotlib.pyplot as plt\n",
    "import graphviz"
   ]
  },
  {
   "cell_type": "markdown",
   "metadata": {},
   "source": [
    "## Факторный анализ"
   ]
  },
  {
   "cell_type": "markdown",
   "metadata": {},
   "source": [
    "Факторный анализ — многомерный метод, применяемый для изучения взаимосвязей между значениями переменных. Предполагается, что известные переменные зависят от меньшего количества неизвестных переменных и случайной ошибки. С помощью факторного анализа возможно выявление скрытых переменных факторов, отвечающих за наличие линейных статистических корреляций между наблюдаемыми переменными."
   ]
  },
  {
   "cell_type": "markdown",
   "metadata": {},
   "source": [
    "## Важность признака для решающего дерева"
   ]
  },
  {
   "cell_type": "markdown",
   "metadata": {},
   "source": [
    "Общая важность признака в решающем дереве вычисляется следующим образом: для каждого признака рассматриваются сделанные разделения и измеряется, __насколько это разделение изменяет Gini index по отношению к вершине дерева__. Сумма вычисленных важностей приводятся к 100, тогда значение важности признака можно интерпретировать как процентный вклад в модель. \n",
    "\n",
    "В scikit-learn (источник: https://github.com/scikit-learn/scikit-learn/blob/0abd95f742efea826df82458458fcbc0f9dafcb2/sklearn/tree/_tree.pyx#L1056), важность узла $j$ в решающем дереве вычисляется следующим образом: $$ ni_j = w_j C_j - w_{left(j)}C_{left(j)}- w_{right(j)}C_{right(j)} $$ \n",
    "- $w_j$ взвешенное число объектов в узле  $j$\n",
    "- $C_j$ impurity в данном узле\n",
    "- $leaft(j)$ и $right(j)$ узлы-потомки\n",
    "\n",
    "Важность признака $i$ вычисляется: $$ fi_i = \\frac{\\sum_{j : \\text{node j splits on feature i}} ni_j}{\\sum_{j \\in \\text{all nodes}} ni_j} $$\n",
    "\n",
    "Эти значения приводятся к интервалу от 0 до 1 делением на сумму важностей признаков: $$ normfi_i = \\frac{fi_i}{\\sum_{j \\in \\text{all features}} fi_j} $$\n",
    "\n",
    "Можно сказать, что важность признака вычисляется, как __повышение информативности в вершине, взвешенное вероятностью попадения в данную вершину__. Вероятность вершины вычисляется как доля объектов, попавших в нее. "
   ]
  },
  {
   "cell_type": "markdown",
   "metadata": {},
   "source": [
    "#### Важность признака говорит о том, какой вклад данный признак внес в повышение информативности вершин дерева. "
   ]
  },
  {
   "cell_type": "code",
   "execution_count": 2,
   "metadata": {},
   "outputs": [
    {
     "data": {
      "text/html": [
       "<div>\n",
       "<style scoped>\n",
       "    .dataframe tbody tr th:only-of-type {\n",
       "        vertical-align: middle;\n",
       "    }\n",
       "\n",
       "    .dataframe tbody tr th {\n",
       "        vertical-align: top;\n",
       "    }\n",
       "\n",
       "    .dataframe thead th {\n",
       "        text-align: right;\n",
       "    }\n",
       "</style>\n",
       "<table border=\"1\" class=\"dataframe\">\n",
       "  <thead>\n",
       "    <tr style=\"text-align: right;\">\n",
       "      <th></th>\n",
       "      <th>Feature_0</th>\n",
       "      <th>Feature_1</th>\n",
       "      <th>Feature_2</th>\n",
       "      <th>Feature_3</th>\n",
       "      <th>Feature_4</th>\n",
       "      <th>Feature_5</th>\n",
       "      <th>Feature_6</th>\n",
       "      <th>Feature_7</th>\n",
       "      <th>Feature_8</th>\n",
       "      <th>Feature_9</th>\n",
       "      <th>target</th>\n",
       "    </tr>\n",
       "  </thead>\n",
       "  <tbody>\n",
       "    <tr>\n",
       "      <th>0</th>\n",
       "      <td>0.580935</td>\n",
       "      <td>-1.239723</td>\n",
       "      <td>-0.452355</td>\n",
       "      <td>-0.787735</td>\n",
       "      <td>-1.540415</td>\n",
       "      <td>-0.087239</td>\n",
       "      <td>-0.702860</td>\n",
       "      <td>0.885165</td>\n",
       "      <td>0.886454</td>\n",
       "      <td>0.331705</td>\n",
       "      <td>0</td>\n",
       "    </tr>\n",
       "    <tr>\n",
       "      <th>1</th>\n",
       "      <td>-1.268949</td>\n",
       "      <td>-0.948439</td>\n",
       "      <td>0.604992</td>\n",
       "      <td>0.855278</td>\n",
       "      <td>0.700557</td>\n",
       "      <td>0.044541</td>\n",
       "      <td>0.696660</td>\n",
       "      <td>-2.811523</td>\n",
       "      <td>-0.326401</td>\n",
       "      <td>-1.486525</td>\n",
       "      <td>1</td>\n",
       "    </tr>\n",
       "    <tr>\n",
       "      <th>2</th>\n",
       "      <td>-1.100988</td>\n",
       "      <td>-2.095826</td>\n",
       "      <td>0.389555</td>\n",
       "      <td>0.076213</td>\n",
       "      <td>-0.379755</td>\n",
       "      <td>0.247034</td>\n",
       "      <td>-0.423096</td>\n",
       "      <td>-0.577676</td>\n",
       "      <td>0.398487</td>\n",
       "      <td>0.783281</td>\n",
       "      <td>1</td>\n",
       "    </tr>\n",
       "    <tr>\n",
       "      <th>3</th>\n",
       "      <td>0.111945</td>\n",
       "      <td>-1.056960</td>\n",
       "      <td>0.160158</td>\n",
       "      <td>-1.105288</td>\n",
       "      <td>-1.058290</td>\n",
       "      <td>0.664090</td>\n",
       "      <td>-0.239792</td>\n",
       "      <td>1.575131</td>\n",
       "      <td>0.864697</td>\n",
       "      <td>-0.629287</td>\n",
       "      <td>1</td>\n",
       "    </tr>\n",
       "    <tr>\n",
       "      <th>4</th>\n",
       "      <td>-1.964517</td>\n",
       "      <td>-1.957714</td>\n",
       "      <td>1.143475</td>\n",
       "      <td>-1.019407</td>\n",
       "      <td>1.239195</td>\n",
       "      <td>-2.156441</td>\n",
       "      <td>-0.635155</td>\n",
       "      <td>-0.131742</td>\n",
       "      <td>-1.321359</td>\n",
       "      <td>-0.956125</td>\n",
       "      <td>1</td>\n",
       "    </tr>\n",
       "  </tbody>\n",
       "</table>\n",
       "</div>"
      ],
      "text/plain": [
       "   Feature_0  Feature_1  Feature_2  Feature_3  Feature_4  Feature_5  \\\n",
       "0   0.580935  -1.239723  -0.452355  -0.787735  -1.540415  -0.087239   \n",
       "1  -1.268949  -0.948439   0.604992   0.855278   0.700557   0.044541   \n",
       "2  -1.100988  -2.095826   0.389555   0.076213  -0.379755   0.247034   \n",
       "3   0.111945  -1.056960   0.160158  -1.105288  -1.058290   0.664090   \n",
       "4  -1.964517  -1.957714   1.143475  -1.019407   1.239195  -2.156441   \n",
       "\n",
       "   Feature_6  Feature_7  Feature_8  Feature_9  target  \n",
       "0  -0.702860   0.885165   0.886454   0.331705       0  \n",
       "1   0.696660  -2.811523  -0.326401  -1.486525       1  \n",
       "2  -0.423096  -0.577676   0.398487   0.783281       1  \n",
       "3  -0.239792   1.575131   0.864697  -0.629287       1  \n",
       "4  -0.635155  -0.131742  -1.321359  -0.956125       1  "
      ]
     },
     "execution_count": 2,
     "metadata": {},
     "output_type": "execute_result"
    }
   ],
   "source": [
    "from sklearn.datasets import make_classification   \n",
    "X, y = make_classification(n_samples=1000, n_features=10, n_informative=3, n_classes=2)\n",
    "\n",
    "data = pd.DataFrame()\n",
    "feature_names = []\n",
    "for i in range(X.shape[1]):\n",
    "    data['Feature_' + str(i)] = X[:,i]\n",
    "    feature_names.append('Feature_' + str(i))\n",
    "data['target'] = y\n",
    "data.head()"
   ]
  },
  {
   "cell_type": "code",
   "execution_count": 3,
   "metadata": {},
   "outputs": [
    {
     "data": {
      "text/plain": [
       "DecisionTreeClassifier(ccp_alpha=0.0, class_weight=None, criterion='gini',\n",
       "                       max_depth=None, max_features=None, max_leaf_nodes=None,\n",
       "                       min_impurity_decrease=0.0, min_impurity_split=None,\n",
       "                       min_samples_leaf=1, min_samples_split=2,\n",
       "                       min_weight_fraction_leaf=0.0, presort='deprecated',\n",
       "                       random_state=None, splitter='best')"
      ]
     },
     "execution_count": 3,
     "metadata": {},
     "output_type": "execute_result"
    }
   ],
   "source": [
    "from sklearn.tree import DecisionTreeClassifier\n",
    "\n",
    "clf = DecisionTreeClassifier()\n",
    "clf.fit(X, y)"
   ]
  },
  {
   "cell_type": "code",
   "execution_count": 4,
   "metadata": {},
   "outputs": [],
   "source": [
    "importance = pd.DataFrame(index=feature_names)\n",
    "importance['DecisionTree'] = clf.feature_importances_"
   ]
  },
  {
   "cell_type": "code",
   "execution_count": 5,
   "metadata": {},
   "outputs": [
    {
     "data": {
      "text/plain": [
       "<matplotlib.axes._subplots.AxesSubplot at 0x7fee47386f98>"
      ]
     },
     "execution_count": 5,
     "metadata": {},
     "output_type": "execute_result"
    },
    {
     "data": {
      "image/png": "[encoded data removed]",
      "text/plain": [
       "<Figure size 432x288 with 1 Axes>"
      ]
     },
     "metadata": {
      "needs_background": "light"
     },
     "output_type": "display_data"
    }
   ],
   "source": [
    "sns.barplot(y=importance.index, x=importance.DecisionTree)"
   ]
  },
  {
   "cell_type": "markdown",
   "metadata": {},
   "source": [
    "С помощью __graphviz__ можно визуализировать построенное решающее дерево и наглядно оценить вклад каждого признака"
   ]
  },
  {
   "cell_type": "code",
   "execution_count": 6,
   "metadata": {
    "scrolled": true
   },
   "outputs": [
    {
     "data": {
      "text/plain": [
       "'Source.gv.pdf'"
      ]
     },
     "execution_count": 6,
     "metadata": {},
     "output_type": "execute_result"
    }
   ],
   "source": [
    "import graphviz\n",
    "from sklearn.tree import export_graphviz\n",
    "dot_data = export_graphviz(clf, out_file=None, filled=True, rounded=True, feature_names=feature_names)  \n",
    "graph = graphviz.Source(dot_data) \n",
    "graph.view()"
   ]
  },
  {
   "cell_type": "markdown",
   "metadata": {},
   "source": [
    "### Преимущества:\n",
    "- Структура дерева идеальна для __визуализации действий__ признаков в данных.\n",
    "- Данные находятся в __непересекющихся группах__, которые воспринимать легче, чем цифры и точки в пространстве.\n",
    "- У дерева есть __естественная визуализация__ с вершинами и ребрами.\n",
    "- __Не нужно преобразовывать признаки__. Решающее дерево хорошо работает с монотонными преобразованиями.\n",
    "\n",
    "### Недостатки:\n",
    "- __Деревья не выделяют линейных закономерностей__. Любые линейные отношения между признаком и целевой переменной будет приближаться кусочно-постоянной функцией. Это не эффективно.\n",
    "- К предыдущему можно добавить __недостаток гладкости__. Небольшое изменения в признаке могут иметь большое влияние на предсказание, этого обычно следует избегать.\n",
    "- Деревья также довольно __нестабильны__. Небольшие изменения в данных могут создать совершенно другое дерево.\n",
    "- __Число узлов быстро возрастает с глубиной__. Чем больше тупиковых вершин, тем сложнее интерпретировать алгоритм."
   ]
  },
  {
   "cell_type": "markdown",
   "metadata": {},
   "source": [
    "## Градиентный бустинг над деревьями"
   ]
  },
  {
   "cell_type": "markdown",
   "metadata": {},
   "source": [
    "### - __Бустинг__ в машинном обучении - способ объединения нескольких простых моделей в ансамбль.\n",
    "- Бустинг - аддитивная модель, т.к. простые модели добавляются по очереди, не изменяя уже существующие деревья в модели. Соединяя много простых моделей, можно получить мощный предсказатель в итоге.\n",
    "- __Градиентный бустинг__ - термин, показывающий, что используется алгоритм градиентного спуска.\n",
    "\n",
    "- __Решающие деревья__ используются как базовые модели. Решается задача машинного обучения по представлению данных в формате деревьев.\n",
    "- Функция потерь обычно - сумма квадратов отклонений. В общем случае жн должна быть дифференцируема.\n",
    "\n",
    "\n",
    "- Концепт __остатков__ в Регрессии градиентным бустингом состоит в том, что регрессор вычисляет отклонения от эелаемого результата. Далее на данном отклонении тренируется следующая простая модель. Ее вклад прибавляется к вкладу предыдущих простых моделей, что приближает к правильному предсказанию. "
   ]
  },
  {
   "cell_type": "markdown",
   "metadata": {},
   "source": [
    "### Алгоритм реализации:\n",
    "1. Выбор базовой модели\n",
    "2. Использование аддитивной модели\n",
    "3. Определение функции потерь\n",
    "4. Минимизация функции потерь"
   ]
  },
  {
   "cell_type": "markdown",
   "metadata": {},
   "source": [
    "### Важность признака в ансамбле\n",
    "В каждой вершине дерева увеличение критерия разделения есть значение важности, добавляемое к признаку, по которому происходит разделение. Далее важность суммируется по дереву.\n",
    "https://github.com/scikit-learn/scikit-learn/blob/0abd95f742efea826df82458458fcbc0f9dafcb2/sklearn/ensemble/gradient_boosting.py#L1213). \n",
    "\n",
    "Конечная важность признака на уровне Градиентного Бустинга есть среднее значение по всем его деревьям. Вычисляется сумма по всем деревьям и делится на их количество:\n",
    "$$ GBfi_i = \\frac{\\sum_{j \\in \\text{all trees}} normfi_j}{T} $$ где $T$ - число деревьев."
   ]
  },
  {
   "cell_type": "code",
   "execution_count": 7,
   "metadata": {},
   "outputs": [
    {
     "data": {
      "text/plain": [
       "XGBClassifier(base_score=0.5, booster=None, colsample_bylevel=1,\n",
       "              colsample_bynode=1, colsample_bytree=1, gamma=0, gpu_id=-1,\n",
       "              importance_type='gain', interaction_constraints=None,\n",
       "              learning_rate=0.300000012, max_delta_step=0, max_depth=6,\n",
       "              min_child_weight=1, missing=nan, monotone_constraints=None,\n",
       "              n_estimators=100, n_jobs=0, num_parallel_tree=1,\n",
       "              objective='binary:logistic', random_state=0, reg_alpha=0,\n",
       "              reg_lambda=1, scale_pos_weight=1, subsample=1, tree_method=None,\n",
       "              validate_parameters=False, verbosity=None)"
      ]
     },
     "execution_count": 7,
     "metadata": {},
     "output_type": "execute_result"
    }
   ],
   "source": [
    "from xgboost import XGBClassifier\n",
    "clf = XGBClassifier()\n",
    "clf.fit(X, y)"
   ]
  },
  {
   "cell_type": "code",
   "execution_count": 8,
   "metadata": {},
   "outputs": [
    {
     "data": {
      "text/html": [
       "<div>\n",
       "<style scoped>\n",
       "    .dataframe tbody tr th:only-of-type {\n",
       "        vertical-align: middle;\n",
       "    }\n",
       "\n",
       "    .dataframe tbody tr th {\n",
       "        vertical-align: top;\n",
       "    }\n",
       "\n",
       "    .dataframe thead th {\n",
       "        text-align: right;\n",
       "    }\n",
       "</style>\n",
       "<table border=\"1\" class=\"dataframe\">\n",
       "  <thead>\n",
       "    <tr style=\"text-align: right;\">\n",
       "      <th></th>\n",
       "      <th>DecisionTree</th>\n",
       "      <th>XGBoost</th>\n",
       "    </tr>\n",
       "  </thead>\n",
       "  <tbody>\n",
       "    <tr>\n",
       "      <th>Feature_0</th>\n",
       "      <td>0.360694</td>\n",
       "      <td>0.294207</td>\n",
       "    </tr>\n",
       "    <tr>\n",
       "      <th>Feature_1</th>\n",
       "      <td>0.127935</td>\n",
       "      <td>0.137029</td>\n",
       "    </tr>\n",
       "    <tr>\n",
       "      <th>Feature_2</th>\n",
       "      <td>0.034096</td>\n",
       "      <td>0.032822</td>\n",
       "    </tr>\n",
       "    <tr>\n",
       "      <th>Feature_3</th>\n",
       "      <td>0.023376</td>\n",
       "      <td>0.022801</td>\n",
       "    </tr>\n",
       "    <tr>\n",
       "      <th>Feature_4</th>\n",
       "      <td>0.092912</td>\n",
       "      <td>0.165766</td>\n",
       "    </tr>\n",
       "    <tr>\n",
       "      <th>Feature_5</th>\n",
       "      <td>0.232895</td>\n",
       "      <td>0.163447</td>\n",
       "    </tr>\n",
       "    <tr>\n",
       "      <th>Feature_6</th>\n",
       "      <td>0.014681</td>\n",
       "      <td>0.021856</td>\n",
       "    </tr>\n",
       "    <tr>\n",
       "      <th>Feature_7</th>\n",
       "      <td>0.018331</td>\n",
       "      <td>0.028448</td>\n",
       "    </tr>\n",
       "    <tr>\n",
       "      <th>Feature_8</th>\n",
       "      <td>0.065718</td>\n",
       "      <td>0.097094</td>\n",
       "    </tr>\n",
       "    <tr>\n",
       "      <th>Feature_9</th>\n",
       "      <td>0.029362</td>\n",
       "      <td>0.036531</td>\n",
       "    </tr>\n",
       "  </tbody>\n",
       "</table>\n",
       "</div>"
      ],
      "text/plain": [
       "           DecisionTree   XGBoost\n",
       "Feature_0      0.360694  0.294207\n",
       "Feature_1      0.127935  0.137029\n",
       "Feature_2      0.034096  0.032822\n",
       "Feature_3      0.023376  0.022801\n",
       "Feature_4      0.092912  0.165766\n",
       "Feature_5      0.232895  0.163447\n",
       "Feature_6      0.014681  0.021856\n",
       "Feature_7      0.018331  0.028448\n",
       "Feature_8      0.065718  0.097094\n",
       "Feature_9      0.029362  0.036531"
      ]
     },
     "execution_count": 8,
     "metadata": {},
     "output_type": "execute_result"
    }
   ],
   "source": [
    "importance['XGBoost'] = clf.feature_importances_\n",
    "importance"
   ]
  },
  {
   "cell_type": "code",
   "execution_count": 9,
   "metadata": {},
   "outputs": [
    {
     "data": {
      "text/plain": [
       "<matplotlib.axes._subplots.AxesSubplot at 0x7fee3c38a518>"
      ]
     },
     "execution_count": 9,
     "metadata": {},
     "output_type": "execute_result"
    },
    {
     "data": {
      "image/png": "[encoded data removed]",
      "text/plain": [
       "<Figure size 432x288 with 1 Axes>"
      ]
     },
     "metadata": {
      "needs_background": "light"
     },
     "output_type": "display_data"
    }
   ],
   "source": [
    "sns.barplot(y=importance.index, x=importance.XGBoost)"
   ]
  },
  {
   "cell_type": "markdown",
   "metadata": {},
   "source": [
    "### Преимущества:\n",
    "- __Лучше точность__: по сравнению с другими техниками регрессии, такими как Линейная Регрессия, бустинг практически всегда выигрывает.\n",
    "- __Меньше препроцессинга__: бустинг требует минимальной предобработки данных, что помогает реализовывать можель с меньшей сложностью.\n",
    "- __Большая гибкость__: бустинг может быть реализован с большим числом гиперпараметров и функций потерь и поэтому использоваться для широкого класса задач.\n",
    "- __Пропуски в данных__: бустинг сам справляется с пропусками в данных."
   ]
  },
  {
   "cell_type": "markdown",
   "metadata": {},
   "source": [
    "## Permutation Feature Importance"
   ]
  },
  {
   "cell_type": "markdown",
   "metadata": {},
   "source": [
    "- Permutation feature importance (PFI) измеряет повышение ошибки предсказания после перестановки значений признаков, то есть изменения взаимодействия между признаком и выходом.\n",
    "- Признак считается __важным__, если перестановка его значения повышает ощибку модели, потому что модель сильно полагается на его вклад. __Неважный__ - признак, перестановка которого оставляет модель неизменной, то есть который она игнорирует в предсказании.\n",
    "\n",
    "__Алгоритм PFI основан на  Fisher, Rudin, and Dominici (2018):__\n",
    "\n",
    "Вход: обученная модель $f$, матрица признаков $X$, целевой вектор $y$, функция ошибки $L(y,f)$\n",
    "1. Оценивается ошибка оригинальной модели $e^{orig} = L(y, f(X))$ (например, MSE)\n",
    "2. Для каждого признака$j = 1,…,p$:\n",
    "    - Создается матрица признака $X^{perm}$ перестановкой признака $j$ в данных $X$. Это разрушает коррелляцию между признаком $j$ и выходом $y$\n",
    "    - Оценивается ошибка $e^{perm} = L(Y,f(X^{perm}))$ основываясь на предсказаниях перестановочных данных.\n",
    "    - Вычисляется PFI $FI_j = \\frac{e^{perm}}{e^{orig}}$. Альтернативно может быть использована разница: $FI_j = e^{perm} - e^{orig}$\n",
    "3. Признаки сортируются по убыванию $FI$"
   ]
  },
  {
   "cell_type": "markdown",
   "metadata": {},
   "source": [
    "### Связь с важностью по информативности\n",
    "- Модели, основанные на деревьях, предполагают использование важностей, основанных на среднем повышении информативности (MDI). Такая важность может быть __не реперезентативной для новых данных__. Для перестановок эта проблема неактуальна.\n",
    "- Более того, важность, основанная на информативности сильно __смещена__ и склоняется к признакам с большим множеством значений (числовые признаки)\n",
    "- Также информативная важность вычисляется только по статистикам, вычисленным на обучающих данных, и поэтому на нее влияет __переобучение__.\n",
    "- Перестановочная важность может также использовать __дополнительные метрики__ на предсказаниях дерева."
   ]
  },
  {
   "cell_type": "code",
   "execution_count": 10,
   "metadata": {},
   "outputs": [
    {
     "name": "stderr",
     "output_type": "stream",
     "text": [
      "/home/ayd98/anaconda3/lib/python3.7/site-packages/sklearn/utils/deprecation.py:144: FutureWarning: The sklearn.metrics.scorer module is  deprecated in version 0.22 and will be removed in version 0.24. The corresponding classes / functions should instead be imported from sklearn.metrics. Anything that cannot be imported from sklearn.metrics is now part of the private API.\n",
      "  warnings.warn(message, FutureWarning)\n",
      "/home/ayd98/anaconda3/lib/python3.7/site-packages/sklearn/utils/deprecation.py:144: FutureWarning: The sklearn.feature_selection.base module is  deprecated in version 0.22 and will be removed in version 0.24. The corresponding classes / functions should instead be imported from sklearn.feature_selection. Anything that cannot be imported from sklearn.feature_selection is now part of the private API.\n",
      "  warnings.warn(message, FutureWarning)\n",
      "Using TensorFlow backend.\n"
     ]
    },
    {
     "data": {
      "text/html": [
       "<div>\n",
       "<style scoped>\n",
       "    .dataframe tbody tr th:only-of-type {\n",
       "        vertical-align: middle;\n",
       "    }\n",
       "\n",
       "    .dataframe tbody tr th {\n",
       "        vertical-align: top;\n",
       "    }\n",
       "\n",
       "    .dataframe thead th {\n",
       "        text-align: right;\n",
       "    }\n",
       "</style>\n",
       "<table border=\"1\" class=\"dataframe\">\n",
       "  <thead>\n",
       "    <tr style=\"text-align: right;\">\n",
       "      <th></th>\n",
       "      <th>DecisionTree</th>\n",
       "      <th>XGBoost</th>\n",
       "      <th>Permutation</th>\n",
       "    </tr>\n",
       "  </thead>\n",
       "  <tbody>\n",
       "    <tr>\n",
       "      <th>Feature_0</th>\n",
       "      <td>0.360694</td>\n",
       "      <td>0.294207</td>\n",
       "      <td>0.1346</td>\n",
       "    </tr>\n",
       "    <tr>\n",
       "      <th>Feature_1</th>\n",
       "      <td>0.127935</td>\n",
       "      <td>0.137029</td>\n",
       "      <td>0.0774</td>\n",
       "    </tr>\n",
       "    <tr>\n",
       "      <th>Feature_2</th>\n",
       "      <td>0.034096</td>\n",
       "      <td>0.032822</td>\n",
       "      <td>0.0118</td>\n",
       "    </tr>\n",
       "    <tr>\n",
       "      <th>Feature_3</th>\n",
       "      <td>0.023376</td>\n",
       "      <td>0.022801</td>\n",
       "      <td>0.0020</td>\n",
       "    </tr>\n",
       "    <tr>\n",
       "      <th>Feature_4</th>\n",
       "      <td>0.092912</td>\n",
       "      <td>0.165766</td>\n",
       "      <td>0.1776</td>\n",
       "    </tr>\n",
       "    <tr>\n",
       "      <th>Feature_5</th>\n",
       "      <td>0.232895</td>\n",
       "      <td>0.163447</td>\n",
       "      <td>0.2380</td>\n",
       "    </tr>\n",
       "    <tr>\n",
       "      <th>Feature_6</th>\n",
       "      <td>0.014681</td>\n",
       "      <td>0.021856</td>\n",
       "      <td>0.0032</td>\n",
       "    </tr>\n",
       "    <tr>\n",
       "      <th>Feature_7</th>\n",
       "      <td>0.018331</td>\n",
       "      <td>0.028448</td>\n",
       "      <td>0.0058</td>\n",
       "    </tr>\n",
       "    <tr>\n",
       "      <th>Feature_8</th>\n",
       "      <td>0.065718</td>\n",
       "      <td>0.097094</td>\n",
       "      <td>0.0120</td>\n",
       "    </tr>\n",
       "    <tr>\n",
       "      <th>Feature_9</th>\n",
       "      <td>0.029362</td>\n",
       "      <td>0.036531</td>\n",
       "      <td>0.0098</td>\n",
       "    </tr>\n",
       "  </tbody>\n",
       "</table>\n",
       "</div>"
      ],
      "text/plain": [
       "           DecisionTree   XGBoost  Permutation\n",
       "Feature_0      0.360694  0.294207       0.1346\n",
       "Feature_1      0.127935  0.137029       0.0774\n",
       "Feature_2      0.034096  0.032822       0.0118\n",
       "Feature_3      0.023376  0.022801       0.0020\n",
       "Feature_4      0.092912  0.165766       0.1776\n",
       "Feature_5      0.232895  0.163447       0.2380\n",
       "Feature_6      0.014681  0.021856       0.0032\n",
       "Feature_7      0.018331  0.028448       0.0058\n",
       "Feature_8      0.065718  0.097094       0.0120\n",
       "Feature_9      0.029362  0.036531       0.0098"
      ]
     },
     "execution_count": 10,
     "metadata": {},
     "output_type": "execute_result"
    }
   ],
   "source": [
    "from eli5.sklearn import PermutationImportance\n",
    "from eli5 import explain_weights_df\n",
    "\n",
    "perm = PermutationImportance(clf)\n",
    "perm.fit(X, y)\n",
    "result = explain_weights_df(perm, feature_names=feature_names).sort_values(by='feature')\n",
    "importance['Permutation'] = result['weight'].values\n",
    "importance"
   ]
  },
  {
   "cell_type": "code",
   "execution_count": 11,
   "metadata": {},
   "outputs": [
    {
     "data": {
      "text/plain": [
       "<matplotlib.axes._subplots.AxesSubplot at 0x7fedda4d5940>"
      ]
     },
     "execution_count": 11,
     "metadata": {},
     "output_type": "execute_result"
    },
    {
     "data": {
      "image/png": "[encoded data removed]",
      "text/plain": [
       "<Figure size 432x288 with 1 Axes>"
      ]
     },
     "metadata": {
      "needs_background": "light"
     },
     "output_type": "display_data"
    }
   ],
   "source": [
    "sns.barplot(y=importance.index, x=importance.Permutation)"
   ]
  },
  {
   "cell_type": "markdown",
   "metadata": {},
   "source": [
    "### Преимущества:\n",
    "- __Хорошая интерпретация__: Важность признака есть повышение ошибки модели в отсутствие информации от данного признка.\n",
    "- Такая важность представляет __сжатый, глобальный инсайд__ в поведение модели.\n",
    "- Использование доли ошибок вместо разности позволяет делать меру важности __сравнимой для разных задач__.\n",
    "- Перестановочная важность автоматически учитывает __отношение с другими признаками__.\n",
    "- __Не требуется обучать модель заново__.\n",
    "\n",
    "### Недостатки:\n",
    "- __Непонятно, использовать обучение или тест__ для вычисления важности признаков.\n",
    "- __Связь с ошибками модели__.\n",
    "- Необходим __доступ к y_train__\n",
    "- Используются перестановки, а значит, влияет случайность, поэтому __результаты могут быть разными__. Усреднение же по многим перестановкам сильно увеличивает время.\n",
    "- Если признаки корреллируют, на важность __могут повлиять нереалистичные объекты в данных__."
   ]
  },
  {
   "cell_type": "markdown",
   "metadata": {},
   "source": [
    "## Shapley Values"
   ]
  },
  {
   "cell_type": "markdown",
   "metadata": {},
   "source": [
    "- Предсказание может быть объяснено предположением, что каждое значение объекта выборки - \"игрок\", а предсказание - его результат. Метод Шепли - метод из теории игр, объясняющий, как правильно распределять \"выигрыш\" между игроками.\n",
    "- __Игра__ есть задача предсказания для обного объекта в данных. __Прирост__ есть действительное предсказание для данного объекта за вычетом среднего для всех объектов. __Игроки__ есть значения признаков для объектов, стремящиеся получить прирост.\n",
    "- Значения Шепли есть средний прирост признака по всем возможным коалициям.\n",
    "- Значения Шепли работают для классификации(если используются вероятности) и регрессии."
   ]
  },
  {
   "cell_type": "markdown",
   "metadata": {},
   "source": [
    "### Вычисление:\n",
    "Индекс Шепли определяется значением $val$ игроков в  $S$. Индекс Шепли для признака есть его вклад в выигрыш, взвешенный и просуммированный по всевозможным комбинациям данных.\n",
    "$$ \\phi_j(val)=\\sum_{S\\subseteq\\{x_{1},\\ldots,x_{p}\\}\\setminus\\{x_j\\}}\\frac{|S|!\\left(p-|S|-1\\right)!}{p!}\\left(val\\left(S\\cup\\{x_j\\}\\right)-val(S)\\right) $$\n",
    "- $S$ подмножество признаков модели\n",
    "- $x$ вектор значения признаков объекта\n",
    "- $p$ число признаков\n",
    "- $val_x(S)$ предсказание значений признаков в множестве $S$, маргинализованные по признакам, не включенным в $S$:\n",
    "$$ val_{x}(S)=\\int\\hat{f}(x_{1},\\ldots,x_{p})d\\mathbb{P}_{x\\notin{}S}-E_X(\\hat{f}(X)) $$"
   ]
  },
  {
   "cell_type": "markdown",
   "metadata": {},
   "source": [
    "## Недостаток\n",
    "состоит в том, что вычисление индексов Шепли требует __большого объема вычислений__. В 99.9% случаев используется приближенное решение."
   ]
  },
  {
   "cell_type": "markdown",
   "metadata": {},
   "source": [
    "### SHAP (SHapley Additive exPlanations)"
   ]
  },
  {
   "cell_type": "markdown",
   "metadata": {},
   "source": [
    "- SHAP (Lundberg, Lee) - метод для объяснения индивидуальных предсказаний, основанный на индексе Шепли.\n",
    "- Авторы предлагают __KernelSHAP__, ядерный подход, вдохновленный LIME и TreeSHAP, эффективная оценка для моделей, основанных на деревьях.\n",
    "- Цель SHAP - объяснить предсказание для объекта путем вычисления вклада каждого признака в предсказание.\n",
    "- Инновация, внесенная SHAP - представление индекса Шепли аддитивным методом, линейной моделью. Этот подход __объединяет LIME и Индексы Шепли__."
   ]
  },
  {
   "cell_type": "markdown",
   "metadata": {},
   "source": [
    "__Коротко о локальных суррогатах (LIME):__\n",
    "- Это интерпретируемы модели для объяснения индивидуальных предсказаний моделей машинного обучения как черных ящиков. Они описаны в статье, где авторы предлагают конкретную реализацию модели. Суррогатные модели используются для приближения предсказаний оригинального черного ящика. Вместо обучения глобальной модели - суррогата, LIME концентрируется на обучении локальных моделей для объяснения индивидуальных предсказаний.\n",
    "- Идея довольно интуитивна: LIME тестирует, что происходит, с предсказаниями с отклонениями при подаче их в оригинальную модель. Создается новый датасет, состоящий из данных с перестановками и соответствующих предсказаний для черного ящика. На этом датасете тренируется интерпретируемая модель, которая взвешивается соответственно вероятности появления данного объекта в данных. Такая модель является хорошим локальным приближением. но не глобальным. Такая точность называется __local fidelity__.\n",
    "- Математически, локальные суррогаты могут быть представлены следующим образом:  $$ \\text{explanation}(x)=\\arg\\min_{g\\in{}G}L(f,g,\\pi_x)+\\Omega(g) $$ \n",
    "    - Объясняющая модель для объекта $x$ есть модель $g$ минимизирующая функцию потерь $L$, измеряющую, как близко предсказание к таковому у оригинальной модели $f$, когда сложность $\\Omega(g)$ удерживается низкой.\n",
    "    - $G$ есть семейство возможных объяснений \n",
    "    - Мера вероятности $\\pi_x$ определяет, насколько большую окрестность $x$ мы рассматриваем для объяснения."
   ]
  },
  {
   "cell_type": "markdown",
   "metadata": {},
   "source": [
    "### LIME + Shapley Values = SHAP\n",
    "SHAP выделяет следующее объсянение: $$ g(z')=\\phi_0+\\sum_{j=1}^M\\phi_jz_j' $$\n",
    "- $g$ объясняющая модель\n",
    "- $z'\\in\\{0,1\\}^M$ вектор коалиции/упрощенные признаки, где 1 значит, что соответствующий признак присутствует, 0 в обратном случае.\n",
    "- $M$ есть максимальный размер коалиции\n",
    "- $\\phi_j\\in\\mathbb{R}$ есть вес признака $j$, индекс Шепли\n",
    "\n",
    "\n",
    "Для $x$, исследуемого объекта, вектор коалиции $x’$есть вектор из всех единиц, то есть все признаки присутствуют. В таком случае формула выглядит следующим образом: $$ g(x')=\\phi_0+\\sum_{j=1}^M\\phi_j $$"
   ]
  },
  {
   "cell_type": "markdown",
   "metadata": {},
   "source": [
    "### KernelSHAP\n",
    "KernelSHAP оценивает для объекта $x$ вклад каждого признака в предсказание. KernelSHAP consists of __5 steps__:\n",
    "1. Пример коалиции $z_k'\\in\\{0,1\\}^M, k\\in\\{1,\\ldots,K\\}$ (1 = признак присутствует в коалиции, 0 = признак отсутствует)\n",
    "\n",
    "    - Случайная коалиция может быть создана подбрасыванием монетки.\n",
    "    - К созданных коалиций становятся датасетом для обучаемой модели. Целевая переменная - предсказание коалиции.\n",
    "\n",
    "\n",
    "2. Берется предсказание $z_k'$ сначала преобразуя $z_k'$ к оригинальному признаковому пространству а затем применяя модель $f$: $f(h_x(z_k'))$\n",
    "\n",
    "    - Чтобы из коалиций получить корректные значения признаков, требуется фенкция $h_x(z')=z$ где $h_x:\\{0,1\\}^M\\rightarrow\\mathbb{R}^p$. Функция $h_x$ ставит коалиции корректный объект. \n",
    "\n",
    "3. Вычисляется вес для каждого $z_k'$ ядром SHAP\n",
    "\n",
    "    - __Большое отличие от LIME__ во взвешивании объектов регрессионной модели.\n",
    "    \n",
    "4. Обучение регрессионной модели:\n",
    "    $$ g(z')=\\phi_0+\\sum_{j=1}^M\\phi_jz_j' $$\n",
    "    - Обучается регрессионная модель $g$ оптимизацией функции потерь $L$: $$ L(f,g,\\pi_{x})=\\sum_{z'\\in{}Z}[f(h_x(z'))-g(z')]^2\\pi_{x}(z') $$ где $Z$ - обучающая выборка. Обычно оптимизируется MSE.\n",
    "\n",
    "\n",
    "5. Возвращаются индексы Шепли $\\phi_j$, вычисленные коэффициенты для регрессионной модели.\n",
    "\n"
   ]
  },
  {
   "cell_type": "code",
   "execution_count": 12,
   "metadata": {},
   "outputs": [
    {
     "name": "stderr",
     "output_type": "stream",
     "text": [
      "Using 1000 background data samples could cause slower run times. Consider using shap.sample(data, K) or shap.kmeans(data, K) to summarize the background as K samples.\n"
     ]
    }
   ],
   "source": [
    "import shap\n",
    "\n",
    "explainer = shap.KernelExplainer(clf.predict, X)\n"
   ]
  },
  {
   "cell_type": "code",
   "execution_count": null,
   "metadata": {},
   "outputs": [
    {
     "data": {
      "application/vnd.jupyter.widget-view+json": {
       "model_id": "9e558113cfca4ead8876bf50689dd7ac",
       "version_major": 2,
       "version_minor": 0
      },
      "text/plain": [
       "HBox(children=(FloatProgress(value=0.0, max=20.0), HTML(value='')))"
      ]
     },
     "metadata": {},
     "output_type": "display_data"
    },
    {
     "name": "stderr",
     "output_type": "stream",
     "text": [
      "l1_reg=\"auto\" is deprecated and in the next version (v0.29) the behavior will change from a conditional use of AIC to simply \"num_features(10)\"!\n"
     ]
    }
   ],
   "source": [
    "%%time\n",
    "data_for_prediction = X[0:20]\n",
    "shap_values = explainer.shap_values(data_for_prediction)\n",
    "expected_value = explainer.expected_value\n",
    "shap.initjs()\n",
    "\n",
    "importance['KernelShap'] = shap_values.mean(axis=0)"
   ]
  },
  {
   "cell_type": "code",
   "execution_count": null,
   "metadata": {},
   "outputs": [],
   "source": [
    "shap.summary_plot(shap_values, data_for_prediction, plot_type='bar', \n",
    "                             feature_names=feature_names)"
   ]
  },
  {
   "cell_type": "code",
   "execution_count": null,
   "metadata": {},
   "outputs": [],
   "source": [
    "shap.force_plot(expected_value, shap_values, data_for_prediction, \n",
    "                           feature_names=feature_names)"
   ]
  },
  {
   "cell_type": "markdown",
   "metadata": {},
   "source": [
    "### TreeSHAP\n",
    "- TreeSHAP - вариация shap для алгоритмов, основанных на деревьях. TreeSHAP быстрее, вычисляет точные индексы Шепли и точно их оценивает, когда есть коррелляции между признаками.\n",
    "- Для точных индексов Шепли вычислительная сложность снижена с экспоненциальной $O(TL2^M)$ к полиномиальной $O(TLD)^2$, где $T$ число деревьев, $L$ максимальное число листьев а $D$ максимальная глубина дерева.\n",
    "- TreeSHAP оценивает корректное условное матожидание $E_{X_S|X_C}(f(x)|x_S)$\n",
    "- Вычисление может быть расширено на другие деревья: благодаря свойству аддитивности индексов Шепли, __Индексы Шепли ансамбля деревьев есть усредненные индексы для индивидуальных деревьев.__"
   ]
  },
  {
   "cell_type": "code",
   "execution_count": null,
   "metadata": {},
   "outputs": [],
   "source": [
    "explainer = shap.TreeExplainer(clf, X)"
   ]
  },
  {
   "cell_type": "code",
   "execution_count": null,
   "metadata": {},
   "outputs": [],
   "source": [
    "%%time\n",
    "data_for_prediction = X[0:20]\n",
    "shap_values = explainer.shap_values(data_for_prediction)\n",
    "expected_value = explainer.expected_value\n",
    "shap.initjs()\n",
    "\n",
    "importance['TreeShap'] = shap_values.mean(axis=0)"
   ]
  },
  {
   "cell_type": "markdown",
   "metadata": {},
   "source": [
    "### SHAP Важность признаков\n",
    "Идея в том, что у признаков с большим значением индекса Шепли более важны. Поскольку необходима глобальная интерпретабельность, мы усредняем абсолютные значения индексов Шепли по данным. Далее, признаки сортируются по убыванию важности для отобржения."
   ]
  },
  {
   "cell_type": "code",
   "execution_count": null,
   "metadata": {},
   "outputs": [],
   "source": [
    "shap.summary_plot(shap_values, data_for_prediction, plot_type='bar', \n",
    "                             feature_names=feature_names)"
   ]
  },
  {
   "cell_type": "markdown",
   "metadata": {},
   "source": [
    "### Преимущества:\n",
    "- Так как в SHAP участвуют индексы Шепли, есть и все их преимущества: __теоретическое обоснование__ из теории игр, предсказание __честно распределено__ по признакам, предсказания позволяют сравнивать признаки со средним предсказанием.\n",
    "- SHAP __соединяет LIME и индексы Шепли__\n",
    "- SHAP __имеет быструю имплементацию__ для моделей, основанных на деревьях\n",
    "- Быстрое вычисление позволяет вычислять необходимые индексы Шепли для __глобальной интерпретабельности__, включающей методы для важности признаков, взаимодействии и зависимостях и графиков.\n",
    "\n",
    "### Недостатки:\n",
    "- __KernelSHAP медленный__, что делает его непрактичным для вычисления индексов Шепли для многих объектов.\n",
    "- __KernelSHAP Игнорирует зависимости признаков__. Это можно обойти, заменяя признаки на случайные из распределений, однако это создает новую зависимость от случайно выбираемых точек. Проблема решается TreeSHAP.\n",
    "- Распространяются также и недостатки индексов Шепли: возможность __неверной интерпретации__ и __необходимость доступа к данным__ для пересчета на новые данные."
   ]
  },
  {
   "cell_type": "code",
   "execution_count": null,
   "metadata": {},
   "outputs": [],
   "source": [
    "importance"
   ]
  },
  {
   "cell_type": "markdown",
   "metadata": {},
   "source": [
    "### Были рассмотрены методы факторного анализа для деревьев,  ансамблей, методы Permutation Importance, Shapley values, LIME, SHAP.\n",
    "области применимости методов различны, выбор следует осуществлять в зависимости от поставленной задачи"
   ]
  },
  {
   "cell_type": "code",
   "execution_count": null,
   "metadata": {},
   "outputs": [],
   "source": [
    "plt.barplot(importance.index, importance.XGBoost)"
   ]
  }
 ],
 "metadata": {
  "kernelspec": {
   "display_name": "Python 3",
   "language": "python",
   "name": "python3"
  },
  "language_info": {
   "codemirror_mode": {
    "name": "ipython",
    "version": 3
   },
   "file_extension": ".py",
   "mimetype": "text/x-python",
   "name": "python",
   "nbconvert_exporter": "python",
   "pygments_lexer": "ipython3",
   "version": "3.7.3"
  }
 },
 "nbformat": 4,
 "nbformat_minor": 2
}
