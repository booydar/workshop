{
 "cells": [
  {
   "cell_type": "code",
   "execution_count": 88,
   "metadata": {},
   "outputs": [
    {
     "data": {
      "text/plain": [
       "0"
      ]
     },
     "execution_count": 88,
     "metadata": {},
     "output_type": "execute_result"
    }
   ],
   "source": [
    "#! /usr/bin/env python3\n",
    "# coding: utf-8\n",
    "from reader import read\n",
    "from alpha import Alpha\n",
    "from petri_net import PetriNet\n",
    "from subprocess import check_call\n",
    "import sys\n",
    "import os.path\n",
    "import itertools\n",
    "import copy\n",
    "\n",
    "log = read('/Projects/misha/pyalpha-master/tests/test2.txt')\n",
    "filename = 'filename'\n",
    "alpha_model = Alpha(log)\n",
    "alpha_model.generate_footprint(txtfile=\"{}_footprint.txt\".format(filename))\n",
    "pn = PetriNet()\n",
    "pn.generate_with_alpha(alpha_model, dotfile=\"{}.dot\".format(filename))\n",
    "check_call([\"dot\", \"-Tpng\", \"{}.dot\".format(filename),\"-o\", \"{}.png\".format(filename)])"
   ]
  },
  {
   "cell_type": "code",
   "execution_count": 60,
   "metadata": {},
   "outputs": [
    {
     "name": "stdout",
     "output_type": "stream",
     "text": [
      "('b', 'a')\n",
      "('b', 'd')\n",
      "('b', 'c')\n",
      "('b', 'e')\n",
      "('a', 'b')\n",
      "('a', 'd')\n",
      "('a', 'c')\n",
      "('a', 'e')\n",
      "('d', 'b')\n",
      "('d', 'a')\n",
      "('d', 'c')\n",
      "('d', 'e')\n",
      "('c', 'b')\n",
      "('c', 'a')\n",
      "('c', 'd')\n",
      "('c', 'e')\n",
      "('e', 'b')\n",
      "('e', 'a')\n",
      "('e', 'd')\n",
      "('e', 'c')\n"
     ]
    }
   ],
   "source": [
    "for i in itertools.permutations(alpha_model.tl,2):\n",
    "    print(i)"
   ]
  },
  {
   "cell_type": "code",
   "execution_count": 76,
   "metadata": {},
   "outputs": [
    {
     "data": {
      "text/plain": [
       "{('a', 'b'),\n",
       " ('a', 'c'),\n",
       " ('a', 'e'),\n",
       " ('b', 'c'),\n",
       " ('b', 'd'),\n",
       " ('c', 'b'),\n",
       " ('c', 'd'),\n",
       " ('e', 'd')}"
      ]
     },
     "execution_count": 76,
     "metadata": {},
     "output_type": "execute_result"
    }
   ],
   "source": [
    "alpha_model.ds"
   ]
  },
  {
   "cell_type": "code",
   "execution_count": 85,
   "metadata": {},
   "outputs": [
    {
     "data": {
      "text/plain": [
       "{(('a',), ('b',)),\n",
       " (('a',), ('b', 'e')),\n",
       " (('a',), ('c',)),\n",
       " (('a',), ('c', 'e')),\n",
       " (('a',), ('e',)),\n",
       " (('b',), ('d',)),\n",
       " (('b', 'e'), ('d',)),\n",
       " (('c',), ('d',)),\n",
       " (('c', 'e'), ('d',)),\n",
       " (('e',), ('d',))}"
      ]
     },
     "execution_count": 85,
     "metadata": {},
     "output_type": "execute_result"
    }
   ],
   "source": [
    "def direct_succession():\n",
    "        # x > y\n",
    "        ds = set()\n",
    "        for trace in alpha_model.log:\n",
    "            for x, y in zip(trace, trace[1:]):\n",
    "                ds.add((x, y))\n",
    "        return ds\n",
    "\n",
    "def causality_parallel_choice(ds):\n",
    "        # x -> y\n",
    "        cs = set()\n",
    "        pr = set()\n",
    "        ind = set()\n",
    "        all_pair = itertools.permutations(alpha_model.tl,2)\n",
    "        \n",
    "        for pair in ds:\n",
    "            if pair[::-1] not in ds:\n",
    "                cs.add(pair)\n",
    "            else:\n",
    "                pr.add(pair)\n",
    "                \n",
    "        for pair in all_pair:\n",
    "            if pair not in cs and pair[::-1] not in cs and pair not in pr:\n",
    "                ind.add(pair)\n",
    "\n",
    "        return cs,pr,ind\n",
    "\n",
    "def get_XL_set(tl, ind, cs):\n",
    "        xl = set()\n",
    "        subsets = itertools.chain.from_iterable(itertools.combinations(tl, r) for r in range(1, len(tl) + 1))\n",
    "        independent_a_or_b = [a_or_b for a_or_b in subsets if is_ind_set(a_or_b, ind)]\n",
    "        for a, b in itertools.product(independent_a_or_b, independent_a_or_b):\n",
    "            if is_cs_set((a, b), cs):\n",
    "                xl.add((a, b))\n",
    "        return xl\n",
    "\n",
    "cs,pr,ind = causality_parallel_choice(alpha_model.direct_succession())\n",
    "xl= get_XL_set(alpha_model.tl,ind,cs)\n",
    "xl"
   ]
  },
  {
   "cell_type": "code",
   "execution_count": 81,
   "metadata": {},
   "outputs": [
    {
     "data": {
      "text/plain": [
       "<itertools.chain at 0x23f33b9c248>"
      ]
     },
     "execution_count": 81,
     "metadata": {},
     "output_type": "execute_result"
    }
   ],
   "source": [
    "s"
   ]
  },
  {
   "cell_type": "code",
   "execution_count": 86,
   "metadata": {},
   "outputs": [
    {
     "name": "stdout",
     "output_type": "stream",
     "text": [
      "('b',)\n",
      "('a',)\n",
      "('d',)\n",
      "('c',)\n",
      "('e',)\n",
      "('b', 'a')\n",
      "('b', 'd')\n",
      "('b', 'c')\n",
      "('b', 'e')\n",
      "('a', 'd')\n",
      "('a', 'c')\n",
      "('a', 'e')\n",
      "('d', 'c')\n",
      "('d', 'e')\n",
      "('c', 'e')\n",
      "('b', 'a', 'd')\n",
      "('b', 'a', 'c')\n",
      "('b', 'a', 'e')\n",
      "('b', 'd', 'c')\n",
      "('b', 'd', 'e')\n",
      "('b', 'c', 'e')\n",
      "('a', 'd', 'c')\n",
      "('a', 'd', 'e')\n",
      "('a', 'c', 'e')\n",
      "('d', 'c', 'e')\n",
      "('b', 'a', 'd', 'c')\n",
      "('b', 'a', 'd', 'e')\n",
      "('b', 'a', 'c', 'e')\n",
      "('b', 'd', 'c', 'e')\n",
      "('a', 'd', 'c', 'e')\n",
      "('b', 'a', 'd', 'c', 'e')\n",
      "SSS\n",
      "(('b',), ('b',))\n",
      "(('b',), ('a',))\n",
      "(('b',), ('d',))\n",
      "(('b',), ('c',))\n",
      "(('b',), ('e',))\n",
      "(('b',), ('b', 'e'))\n",
      "(('b',), ('a', 'd'))\n",
      "(('b',), ('c', 'e'))\n",
      "(('a',), ('b',))\n",
      "(('a',), ('a',))\n",
      "(('a',), ('d',))\n",
      "(('a',), ('c',))\n",
      "(('a',), ('e',))\n",
      "(('a',), ('b', 'e'))\n",
      "(('a',), ('a', 'd'))\n",
      "(('a',), ('c', 'e'))\n",
      "(('d',), ('b',))\n",
      "(('d',), ('a',))\n",
      "(('d',), ('d',))\n",
      "(('d',), ('c',))\n",
      "(('d',), ('e',))\n",
      "(('d',), ('b', 'e'))\n",
      "(('d',), ('a', 'd'))\n",
      "(('d',), ('c', 'e'))\n",
      "(('c',), ('b',))\n",
      "(('c',), ('a',))\n",
      "(('c',), ('d',))\n",
      "(('c',), ('c',))\n",
      "(('c',), ('e',))\n",
      "(('c',), ('b', 'e'))\n",
      "(('c',), ('a', 'd'))\n",
      "(('c',), ('c', 'e'))\n",
      "(('e',), ('b',))\n",
      "(('e',), ('a',))\n",
      "(('e',), ('d',))\n",
      "(('e',), ('c',))\n",
      "(('e',), ('e',))\n",
      "(('e',), ('b', 'e'))\n",
      "(('e',), ('a', 'd'))\n",
      "(('e',), ('c', 'e'))\n",
      "(('b', 'e'), ('b',))\n",
      "(('b', 'e'), ('a',))\n",
      "(('b', 'e'), ('d',))\n",
      "(('b', 'e'), ('c',))\n",
      "(('b', 'e'), ('e',))\n",
      "(('b', 'e'), ('b', 'e'))\n",
      "(('b', 'e'), ('a', 'd'))\n",
      "(('b', 'e'), ('c', 'e'))\n",
      "(('a', 'd'), ('b',))\n",
      "(('a', 'd'), ('a',))\n",
      "(('a', 'd'), ('d',))\n",
      "(('a', 'd'), ('c',))\n",
      "(('a', 'd'), ('e',))\n",
      "(('a', 'd'), ('b', 'e'))\n",
      "(('a', 'd'), ('a', 'd'))\n",
      "(('a', 'd'), ('c', 'e'))\n",
      "(('c', 'e'), ('b',))\n",
      "(('c', 'e'), ('a',))\n",
      "(('c', 'e'), ('d',))\n",
      "(('c', 'e'), ('c',))\n",
      "(('c', 'e'), ('e',))\n",
      "(('c', 'e'), ('b', 'e'))\n",
      "(('c', 'e'), ('a', 'd'))\n",
      "(('c', 'e'), ('c', 'e'))\n"
     ]
    }
   ],
   "source": [
    "for i in itertools.chain.from_iterable(itertools.combinations(alpha_model.tl, r) for r in range(1, len(alpha_model.tl) + 1)):\n",
    "    print(i)\n",
    "    \n",
    "independent_a_or_b = [a_or_b for a_or_b in itertools.chain.from_iterable(itertools.combinations(alpha_model.tl, r) for r in range(1, len(alpha_model.tl) + 1)) if is_ind_set(a_or_b, ind)]\n",
    "print(\"SSS\")\n",
    "for i in itertools.product(independent_a_or_b, independent_a_or_b):\n",
    "    print(i)"
   ]
  },
  {
   "cell_type": "code",
   "execution_count": 52,
   "metadata": {},
   "outputs": [],
   "source": [
    "def is_ind_set(s,ind):\n",
    "    if len(s) == 1:\n",
    "        return True\n",
    "    else:\n",
    "        s_all = itertools.combinations(s,2)\n",
    "        for pair in s_all:\n",
    "            if pair not in alpha_model.ind:\n",
    "                return False\n",
    "        return True\n",
    "    \n",
    "def is_cs_set(s, cs):\n",
    "    set_a, set_b = s[0], s[1]\n",
    "    s_all = itertools.product(set_a, set_b)\n",
    "    for pair in s_all:\n",
    "        if pair not in cs:\n",
    "            return False\n",
    "    return True"
   ]
  }
 ],
 "metadata": {
  "kernelspec": {
   "display_name": "Python 3",
   "language": "python",
   "name": "python3"
  },
  "language_info": {
   "codemirror_mode": {
    "name": "ipython",
    "version": 3
   },
   "file_extension": ".py",
   "mimetype": "text/x-python",
   "name": "python",
   "nbconvert_exporter": "python",
   "pygments_lexer": "ipython3",
   "version": "3.7.5"
  }
 },
 "nbformat": 4,
 "nbformat_minor": 2
}
