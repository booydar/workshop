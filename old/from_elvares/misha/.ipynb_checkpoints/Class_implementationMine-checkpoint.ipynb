{
 "cells": [
  {
   "cell_type": "markdown",
   "metadata": {},
   "source": [
    "# Краткое описание"
   ]
  },
  {
   "cell_type": "markdown",
   "metadata": {},
   "source": [
    "Реализована создание графа процесса, матрица вероятностных переходов и отрисовка графа"
   ]
  },
  {
   "cell_type": "code",
   "execution_count": 40,
   "metadata": {},
   "outputs": [],
   "source": [
    "def rate(self,rate1,rate2):\n",
    "    pass"
   ]
  },
  {
   "cell_type": "markdown",
   "metadata": {},
   "source": [
    "считает формулу (1)"
   ]
  },
  {
   "cell_type": "markdown",
   "metadata": {},
   "source": [
    "на вход подаётся количество случаев когда стадия A шла после стадии B и наоборот. Это можно посчитать с помощью функции "
   ]
  },
  {
   "cell_type": "code",
   "execution_count": 41,
   "metadata": {},
   "outputs": [],
   "source": [
    "def numbers_of_cases(self,stage1,stage2):\n",
    "    pass"
   ]
  },
  {
   "cell_type": "markdown",
   "metadata": {},
   "source": [
    "где stage1,stage2 название стадий. К примеру, 'Stage_0', 'Stage_1'"
   ]
  },
  {
   "cell_type": "code",
   "execution_count": 42,
   "metadata": {},
   "outputs": [],
   "source": [
    "def get_a_ensue_b_and_c(self,stage0,stage1,stage2):\n",
    "    pass"
   ]
  },
  {
   "cell_type": "markdown",
   "metadata": {},
   "source": [
    "считает формулу (4)"
   ]
  },
  {
   "cell_type": "markdown",
   "metadata": {},
   "source": [
    "на вход подаётся названия стадий "
   ]
  },
  {
   "cell_type": "markdown",
   "metadata": {},
   "source": [
    "# Проблема"
   ]
  },
  {
   "cell_type": "markdown",
   "metadata": {},
   "source": [
    "Как определить в каком отношении находятся стадии графа"
   ]
  },
  {
   "cell_type": "markdown",
   "metadata": {},
   "source": [
    "Переход от графа процесса к граффу стадий процесса."
   ]
  },
  {
   "cell_type": "markdown",
   "metadata": {},
   "source": [
    "# Реализация"
   ]
  },
  {
   "cell_type": "code",
   "execution_count": 43,
   "metadata": {},
   "outputs": [],
   "source": [
    "import numpy as np\n",
    "import pandas as pd\n",
    "from itertools import product as conbinations\n",
    "import matplotlib.pyplot as plt\n",
    "from graphviz import Digraph\n",
    "from pm4py.objects.conversion.log import factory as conversion_factory  # преобразование DataFrame в лог-файл\n",
    "from pm4py.algo.discovery.heuristics import factory as heuristics_miner\n",
    "from pm4py.visualization.heuristics_net import factory as hn_vis_factory  # отрисовка heu_net\n",
    "from pm4py.algo.discovery.alpha import factory as alpha_miner"
   ]
  },
  {
   "cell_type": "code",
   "execution_count": 44,
   "metadata": {},
   "outputs": [
    {
     "name": "stdout",
     "output_type": "stream",
     "text": [
      "(4461, 3)\n"
     ]
    },
    {
     "data": {
      "text/html": [
       "<div>\n",
       "<style scoped>\n",
       "    .dataframe tbody tr th:only-of-type {\n",
       "        vertical-align: middle;\n",
       "    }\n",
       "\n",
       "    .dataframe tbody tr th {\n",
       "        vertical-align: top;\n",
       "    }\n",
       "\n",
       "    .dataframe thead th {\n",
       "        text-align: right;\n",
       "    }\n",
       "</style>\n",
       "<table border=\"1\" class=\"dataframe\">\n",
       "  <thead>\n",
       "    <tr style=\"text-align: right;\">\n",
       "      <th></th>\n",
       "      <th>id</th>\n",
       "      <th>stages</th>\n",
       "      <th>dt</th>\n",
       "    </tr>\n",
       "  </thead>\n",
       "  <tbody>\n",
       "    <tr>\n",
       "      <th>0</th>\n",
       "      <td>0.0</td>\n",
       "      <td>Stage_0</td>\n",
       "      <td>2019-12-01</td>\n",
       "    </tr>\n",
       "    <tr>\n",
       "      <th>1</th>\n",
       "      <td>0.0</td>\n",
       "      <td>Stage_3</td>\n",
       "      <td>2019-12-02</td>\n",
       "    </tr>\n",
       "    <tr>\n",
       "      <th>2</th>\n",
       "      <td>0.0</td>\n",
       "      <td>Stage_5</td>\n",
       "      <td>2019-12-05</td>\n",
       "    </tr>\n",
       "    <tr>\n",
       "      <th>3</th>\n",
       "      <td>0.0</td>\n",
       "      <td>Stage_2</td>\n",
       "      <td>2019-12-11</td>\n",
       "    </tr>\n",
       "    <tr>\n",
       "      <th>4</th>\n",
       "      <td>0.0</td>\n",
       "      <td>Stage_7</td>\n",
       "      <td>2019-12-17</td>\n",
       "    </tr>\n",
       "  </tbody>\n",
       "</table>\n",
       "</div>"
      ],
      "text/plain": [
       "    id   stages          dt\n",
       "0  0.0  Stage_0  2019-12-01\n",
       "1  0.0  Stage_3  2019-12-02\n",
       "2  0.0  Stage_5  2019-12-05\n",
       "3  0.0  Stage_2  2019-12-11\n",
       "4  0.0  Stage_7  2019-12-17"
      ]
     },
     "execution_count": 44,
     "metadata": {},
     "output_type": "execute_result"
    }
   ],
   "source": [
    "#df=pd.read_csv('dataset_el.csv')\n",
    "df=pd.read_csv('synthetic_process_mining_dataset5.csv')\n",
    "\n",
    "print(df.shape)\n",
    "df.head()"
   ]
  },
  {
   "cell_type": "code",
   "execution_count": null,
   "metadata": {},
   "outputs": [],
   "source": []
  },
  {
   "cell_type": "code",
   "execution_count": 45,
   "metadata": {
    "scrolled": true
   },
   "outputs": [
    {
     "name": "stdout",
     "output_type": "stream",
     "text": [
      "Init 0.0\n",
      "1 loop 0.0009915828704833984\n",
      "2 loop 0.0\n",
      "3 loop 0.0004963874816894531\n",
      "4 loop 0.0009920597076416016\n",
      "Last loop 0.0014874935150146484\n",
      "Warning: # is not a known color.\r\n",
      "\n",
      "Write graph 0.09123420715332031\n",
      "0.13536524772644043\n"
     ]
    }
   ],
   "source": [
    "import time\n",
    "t = time.time()\n",
    "CASE_ID_COLNAME = 'id'\n",
    "ACTIVITY_ID_COLNAME = 'stages'\n",
    "TIMESTAMP_COLNAME = 'dt'\n",
    "log = conversion_factory.apply(df, parameters={'case_id_glue': CASE_ID_COLNAME})\n",
    "\n",
    "parameters = {'pm4py:param:activity_key': ACTIVITY_ID_COLNAME,\n",
    "                  'dependency_thresh': 0.95,\n",
    "                  'min_act_count': 1,\n",
    "                  'min_dfg_occurrences': 1}\n",
    "heu_net = heuristics_miner.apply_heu(log, parameters=parameters)\n",
    "gviz_params = {\"format\": \"png\"}\n",
    "               # \"splines\": \"curved\",\n",
    "               # \"quadType\": \"fast\",\n",
    "               # \"engine\": \"neato\",\n",
    "               # \"layout\": \"sfpd\"}\n",
    "name = 'image'\n",
    "gviz = hn_vis_factory.apply(heu_net, parameters=gviz_params)\n",
    "hn_vis_factory.save(gviz, 'heu_net_{}.png'.format(name))\n",
    "print(time.time() - t)"
   ]
  },
  {
   "cell_type": "code",
   "execution_count": 14,
   "metadata": {},
   "outputs": [
    {
     "ename": "KeyError",
     "evalue": "'concept:name'",
     "output_type": "error",
     "traceback": [
      "\u001b[1;31m---------------------------------------------------------------------------\u001b[0m",
      "\u001b[1;31mKeyError\u001b[0m                                  Traceback (most recent call last)",
      "\u001b[1;32m<ipython-input-14-cfb5a4cefafb>\u001b[0m in \u001b[0;36m<module>\u001b[1;34m\u001b[0m\n\u001b[1;32m----> 1\u001b[1;33m \u001b[0mnet\u001b[0m\u001b[1;33m,\u001b[0m \u001b[0minitial_marking\u001b[0m\u001b[1;33m,\u001b[0m \u001b[0mfinal_marking\u001b[0m \u001b[1;33m=\u001b[0m \u001b[0malpha_miner\u001b[0m\u001b[1;33m.\u001b[0m\u001b[0mapply\u001b[0m\u001b[1;33m(\u001b[0m\u001b[0mlog\u001b[0m\u001b[1;33m)\u001b[0m\u001b[1;33m\u001b[0m\u001b[1;33m\u001b[0m\u001b[0m\n\u001b[0m\u001b[0;32m      2\u001b[0m \u001b[0mgviz\u001b[0m \u001b[1;33m=\u001b[0m \u001b[0mvisualizer\u001b[0m\u001b[1;33m.\u001b[0m\u001b[0mapply\u001b[0m\u001b[1;33m(\u001b[0m\u001b[0mnet\u001b[0m\u001b[1;33m,\u001b[0m \u001b[0minitial_marking\u001b[0m\u001b[1;33m,\u001b[0m \u001b[0mfinal_marking\u001b[0m\u001b[1;33m)\u001b[0m\u001b[1;33m\u001b[0m\u001b[1;33m\u001b[0m\u001b[0m\n\u001b[0;32m      3\u001b[0m \u001b[0mvisualizer\u001b[0m\u001b[1;33m.\u001b[0m\u001b[0mview\u001b[0m\u001b[1;33m(\u001b[0m\u001b[0mgviz\u001b[0m\u001b[1;33m)\u001b[0m\u001b[1;33m\u001b[0m\u001b[1;33m\u001b[0m\u001b[0m\n",
      "\u001b[1;32mD:\\Anaconda3\\envs\\Tensor\\lib\\site-packages\\pm4py\\algo\\discovery\\alpha\\factory.py\u001b[0m in \u001b[0;36mapply\u001b[1;34m(log, parameters, variant)\u001b[0m\n\u001b[0;32m     53\u001b[0m                                               timestamp_key=parameters[pmutil.constants.PARAMETER_CONSTANT_TIMESTAMP_KEY])\n\u001b[0;32m     54\u001b[0m             \u001b[1;32mreturn\u001b[0m \u001b[0mVERSIONS_DFG\u001b[0m\u001b[1;33m[\u001b[0m\u001b[0mvariant\u001b[0m\u001b[1;33m]\u001b[0m\u001b[1;33m(\u001b[0m\u001b[0mdfg\u001b[0m\u001b[1;33m,\u001b[0m \u001b[0mparameters\u001b[0m\u001b[1;33m=\u001b[0m\u001b[0mparameters\u001b[0m\u001b[1;33m)\u001b[0m\u001b[1;33m\u001b[0m\u001b[1;33m\u001b[0m\u001b[0m\n\u001b[1;32m---> 55\u001b[1;33m     \u001b[1;32mreturn\u001b[0m \u001b[0mVERSIONS\u001b[0m\u001b[1;33m[\u001b[0m\u001b[0mvariant\u001b[0m\u001b[1;33m]\u001b[0m\u001b[1;33m(\u001b[0m\u001b[0mlog_conversion\u001b[0m\u001b[1;33m.\u001b[0m\u001b[0mapply\u001b[0m\u001b[1;33m(\u001b[0m\u001b[0mlog\u001b[0m\u001b[1;33m,\u001b[0m \u001b[0mparameters\u001b[0m\u001b[1;33m,\u001b[0m \u001b[0mlog_conversion\u001b[0m\u001b[1;33m.\u001b[0m\u001b[0mTO_EVENT_LOG\u001b[0m\u001b[1;33m)\u001b[0m\u001b[1;33m,\u001b[0m \u001b[0mparameters\u001b[0m\u001b[1;33m)\u001b[0m\u001b[1;33m\u001b[0m\u001b[1;33m\u001b[0m\u001b[0m\n\u001b[0m\u001b[0;32m     56\u001b[0m \u001b[1;33m\u001b[0m\u001b[0m\n\u001b[0;32m     57\u001b[0m \u001b[1;33m\u001b[0m\u001b[0m\n",
      "\u001b[1;32mD:\\Anaconda3\\envs\\Tensor\\lib\\site-packages\\pm4py\\algo\\discovery\\alpha\\versions\\classic.py\u001b[0m in \u001b[0;36mapply\u001b[1;34m(log, parameters)\u001b[0m\n\u001b[0;32m     61\u001b[0m     \u001b[1;32mif\u001b[0m \u001b[0mpm_util\u001b[0m\u001b[1;33m.\u001b[0m\u001b[0mconstants\u001b[0m\u001b[1;33m.\u001b[0m\u001b[0mPARAMETER_CONSTANT_ACTIVITY_KEY\u001b[0m \u001b[1;32mnot\u001b[0m \u001b[1;32min\u001b[0m \u001b[0mparameters\u001b[0m\u001b[1;33m:\u001b[0m\u001b[1;33m\u001b[0m\u001b[1;33m\u001b[0m\u001b[0m\n\u001b[0;32m     62\u001b[0m         \u001b[0mparameters\u001b[0m\u001b[1;33m[\u001b[0m\u001b[0mpm_util\u001b[0m\u001b[1;33m.\u001b[0m\u001b[0mconstants\u001b[0m\u001b[1;33m.\u001b[0m\u001b[0mPARAMETER_CONSTANT_ACTIVITY_KEY\u001b[0m\u001b[1;33m]\u001b[0m \u001b[1;33m=\u001b[0m \u001b[0mlog_util\u001b[0m\u001b[1;33m.\u001b[0m\u001b[0mxes\u001b[0m\u001b[1;33m.\u001b[0m\u001b[0mDEFAULT_NAME_KEY\u001b[0m\u001b[1;33m\u001b[0m\u001b[1;33m\u001b[0m\u001b[0m\n\u001b[1;32m---> 63\u001b[1;33m     \u001b[0mdfg\u001b[0m \u001b[1;33m=\u001b[0m \u001b[1;33m{\u001b[0m\u001b[0mk\u001b[0m\u001b[1;33m:\u001b[0m \u001b[0mv\u001b[0m \u001b[1;32mfor\u001b[0m \u001b[0mk\u001b[0m\u001b[1;33m,\u001b[0m \u001b[0mv\u001b[0m \u001b[1;32min\u001b[0m \u001b[0mdfg_inst\u001b[0m\u001b[1;33m.\u001b[0m\u001b[0mapply\u001b[0m\u001b[1;33m(\u001b[0m\u001b[0mlog\u001b[0m\u001b[1;33m,\u001b[0m \u001b[0mparameters\u001b[0m\u001b[1;33m=\u001b[0m\u001b[0mparameters\u001b[0m\u001b[1;33m)\u001b[0m\u001b[1;33m.\u001b[0m\u001b[0mitems\u001b[0m\u001b[1;33m(\u001b[0m\u001b[1;33m)\u001b[0m \u001b[1;32mif\u001b[0m \u001b[0mv\u001b[0m \u001b[1;33m>\u001b[0m \u001b[1;36m0\u001b[0m\u001b[1;33m}\u001b[0m\u001b[1;33m\u001b[0m\u001b[1;33m\u001b[0m\u001b[0m\n\u001b[0m\u001b[0;32m     64\u001b[0m     start_activities = endpoints.derive_start_activities_from_log(log, parameters[\n\u001b[0;32m     65\u001b[0m         pm_util.constants.PARAMETER_CONSTANT_ACTIVITY_KEY])\n",
      "\u001b[1;32mD:\\Anaconda3\\envs\\Tensor\\lib\\site-packages\\pm4py\\algo\\discovery\\dfg\\versions\\native.py\u001b[0m in \u001b[0;36mapply\u001b[1;34m(log, parameters)\u001b[0m\n\u001b[0;32m     33\u001b[0m     \u001b[0mactivity_key\u001b[0m \u001b[1;33m=\u001b[0m \u001b[0mparameters\u001b[0m\u001b[1;33m[\u001b[0m\u001b[0mpmutil\u001b[0m\u001b[1;33m.\u001b[0m\u001b[0mconstants\u001b[0m\u001b[1;33m.\u001b[0m\u001b[0mPARAMETER_CONSTANT_ACTIVITY_KEY\u001b[0m\u001b[1;33m]\u001b[0m\u001b[1;33m\u001b[0m\u001b[1;33m\u001b[0m\u001b[0m\n\u001b[0;32m     34\u001b[0m     \u001b[0mdfgs\u001b[0m \u001b[1;33m=\u001b[0m \u001b[0mmap\u001b[0m\u001b[1;33m(\u001b[0m\u001b[1;33m(\u001b[0m\u001b[1;32mlambda\u001b[0m \u001b[0mt\u001b[0m\u001b[1;33m:\u001b[0m \u001b[1;33m[\u001b[0m\u001b[1;33m(\u001b[0m\u001b[0mt\u001b[0m\u001b[1;33m[\u001b[0m\u001b[0mi\u001b[0m \u001b[1;33m-\u001b[0m \u001b[0mwindow\u001b[0m\u001b[1;33m]\u001b[0m\u001b[1;33m[\u001b[0m\u001b[0mactivity_key\u001b[0m\u001b[1;33m]\u001b[0m\u001b[1;33m,\u001b[0m \u001b[0mt\u001b[0m\u001b[1;33m[\u001b[0m\u001b[0mi\u001b[0m\u001b[1;33m]\u001b[0m\u001b[1;33m[\u001b[0m\u001b[0mactivity_key\u001b[0m\u001b[1;33m]\u001b[0m\u001b[1;33m)\u001b[0m \u001b[1;32mfor\u001b[0m \u001b[0mi\u001b[0m \u001b[1;32min\u001b[0m \u001b[0mrange\u001b[0m\u001b[1;33m(\u001b[0m\u001b[0mwindow\u001b[0m\u001b[1;33m,\u001b[0m \u001b[0mlen\u001b[0m\u001b[1;33m(\u001b[0m\u001b[0mt\u001b[0m\u001b[1;33m)\u001b[0m\u001b[1;33m)\u001b[0m\u001b[1;33m]\u001b[0m\u001b[1;33m)\u001b[0m\u001b[1;33m,\u001b[0m \u001b[0mlog\u001b[0m\u001b[1;33m)\u001b[0m\u001b[1;33m\u001b[0m\u001b[1;33m\u001b[0m\u001b[0m\n\u001b[1;32m---> 35\u001b[1;33m     \u001b[1;32mreturn\u001b[0m \u001b[0mCounter\u001b[0m\u001b[1;33m(\u001b[0m\u001b[1;33m[\u001b[0m\u001b[0mdfg\u001b[0m \u001b[1;32mfor\u001b[0m \u001b[0mlista\u001b[0m \u001b[1;32min\u001b[0m \u001b[0mdfgs\u001b[0m \u001b[1;32mfor\u001b[0m \u001b[0mdfg\u001b[0m \u001b[1;32min\u001b[0m \u001b[0mlista\u001b[0m\u001b[1;33m]\u001b[0m\u001b[1;33m)\u001b[0m\u001b[1;33m\u001b[0m\u001b[1;33m\u001b[0m\u001b[0m\n\u001b[0m",
      "\u001b[1;32mD:\\Anaconda3\\envs\\Tensor\\lib\\site-packages\\pm4py\\algo\\discovery\\dfg\\versions\\native.py\u001b[0m in \u001b[0;36m<listcomp>\u001b[1;34m(.0)\u001b[0m\n\u001b[0;32m     33\u001b[0m     \u001b[0mactivity_key\u001b[0m \u001b[1;33m=\u001b[0m \u001b[0mparameters\u001b[0m\u001b[1;33m[\u001b[0m\u001b[0mpmutil\u001b[0m\u001b[1;33m.\u001b[0m\u001b[0mconstants\u001b[0m\u001b[1;33m.\u001b[0m\u001b[0mPARAMETER_CONSTANT_ACTIVITY_KEY\u001b[0m\u001b[1;33m]\u001b[0m\u001b[1;33m\u001b[0m\u001b[1;33m\u001b[0m\u001b[0m\n\u001b[0;32m     34\u001b[0m     \u001b[0mdfgs\u001b[0m \u001b[1;33m=\u001b[0m \u001b[0mmap\u001b[0m\u001b[1;33m(\u001b[0m\u001b[1;33m(\u001b[0m\u001b[1;32mlambda\u001b[0m \u001b[0mt\u001b[0m\u001b[1;33m:\u001b[0m \u001b[1;33m[\u001b[0m\u001b[1;33m(\u001b[0m\u001b[0mt\u001b[0m\u001b[1;33m[\u001b[0m\u001b[0mi\u001b[0m \u001b[1;33m-\u001b[0m \u001b[0mwindow\u001b[0m\u001b[1;33m]\u001b[0m\u001b[1;33m[\u001b[0m\u001b[0mactivity_key\u001b[0m\u001b[1;33m]\u001b[0m\u001b[1;33m,\u001b[0m \u001b[0mt\u001b[0m\u001b[1;33m[\u001b[0m\u001b[0mi\u001b[0m\u001b[1;33m]\u001b[0m\u001b[1;33m[\u001b[0m\u001b[0mactivity_key\u001b[0m\u001b[1;33m]\u001b[0m\u001b[1;33m)\u001b[0m \u001b[1;32mfor\u001b[0m \u001b[0mi\u001b[0m \u001b[1;32min\u001b[0m \u001b[0mrange\u001b[0m\u001b[1;33m(\u001b[0m\u001b[0mwindow\u001b[0m\u001b[1;33m,\u001b[0m \u001b[0mlen\u001b[0m\u001b[1;33m(\u001b[0m\u001b[0mt\u001b[0m\u001b[1;33m)\u001b[0m\u001b[1;33m)\u001b[0m\u001b[1;33m]\u001b[0m\u001b[1;33m)\u001b[0m\u001b[1;33m,\u001b[0m \u001b[0mlog\u001b[0m\u001b[1;33m)\u001b[0m\u001b[1;33m\u001b[0m\u001b[1;33m\u001b[0m\u001b[0m\n\u001b[1;32m---> 35\u001b[1;33m     \u001b[1;32mreturn\u001b[0m \u001b[0mCounter\u001b[0m\u001b[1;33m(\u001b[0m\u001b[1;33m[\u001b[0m\u001b[0mdfg\u001b[0m \u001b[1;32mfor\u001b[0m \u001b[0mlista\u001b[0m \u001b[1;32min\u001b[0m \u001b[0mdfgs\u001b[0m \u001b[1;32mfor\u001b[0m \u001b[0mdfg\u001b[0m \u001b[1;32min\u001b[0m \u001b[0mlista\u001b[0m\u001b[1;33m]\u001b[0m\u001b[1;33m)\u001b[0m\u001b[1;33m\u001b[0m\u001b[1;33m\u001b[0m\u001b[0m\n\u001b[0m",
      "\u001b[1;32mD:\\Anaconda3\\envs\\Tensor\\lib\\site-packages\\pm4py\\algo\\discovery\\dfg\\versions\\native.py\u001b[0m in \u001b[0;36m<lambda>\u001b[1;34m(t)\u001b[0m\n\u001b[0;32m     32\u001b[0m     \u001b[0mwindow\u001b[0m \u001b[1;33m=\u001b[0m \u001b[0mparameters\u001b[0m\u001b[1;33m[\u001b[0m\u001b[0mWINDOW\u001b[0m\u001b[1;33m]\u001b[0m \u001b[1;32mif\u001b[0m \u001b[0mWINDOW\u001b[0m \u001b[1;32min\u001b[0m \u001b[0mparameters\u001b[0m \u001b[1;32melse\u001b[0m \u001b[0mDEFAULT_WINDOW\u001b[0m\u001b[1;33m\u001b[0m\u001b[1;33m\u001b[0m\u001b[0m\n\u001b[0;32m     33\u001b[0m     \u001b[0mactivity_key\u001b[0m \u001b[1;33m=\u001b[0m \u001b[0mparameters\u001b[0m\u001b[1;33m[\u001b[0m\u001b[0mpmutil\u001b[0m\u001b[1;33m.\u001b[0m\u001b[0mconstants\u001b[0m\u001b[1;33m.\u001b[0m\u001b[0mPARAMETER_CONSTANT_ACTIVITY_KEY\u001b[0m\u001b[1;33m]\u001b[0m\u001b[1;33m\u001b[0m\u001b[1;33m\u001b[0m\u001b[0m\n\u001b[1;32m---> 34\u001b[1;33m     \u001b[0mdfgs\u001b[0m \u001b[1;33m=\u001b[0m \u001b[0mmap\u001b[0m\u001b[1;33m(\u001b[0m\u001b[1;33m(\u001b[0m\u001b[1;32mlambda\u001b[0m \u001b[0mt\u001b[0m\u001b[1;33m:\u001b[0m \u001b[1;33m[\u001b[0m\u001b[1;33m(\u001b[0m\u001b[0mt\u001b[0m\u001b[1;33m[\u001b[0m\u001b[0mi\u001b[0m \u001b[1;33m-\u001b[0m \u001b[0mwindow\u001b[0m\u001b[1;33m]\u001b[0m\u001b[1;33m[\u001b[0m\u001b[0mactivity_key\u001b[0m\u001b[1;33m]\u001b[0m\u001b[1;33m,\u001b[0m \u001b[0mt\u001b[0m\u001b[1;33m[\u001b[0m\u001b[0mi\u001b[0m\u001b[1;33m]\u001b[0m\u001b[1;33m[\u001b[0m\u001b[0mactivity_key\u001b[0m\u001b[1;33m]\u001b[0m\u001b[1;33m)\u001b[0m \u001b[1;32mfor\u001b[0m \u001b[0mi\u001b[0m \u001b[1;32min\u001b[0m \u001b[0mrange\u001b[0m\u001b[1;33m(\u001b[0m\u001b[0mwindow\u001b[0m\u001b[1;33m,\u001b[0m \u001b[0mlen\u001b[0m\u001b[1;33m(\u001b[0m\u001b[0mt\u001b[0m\u001b[1;33m)\u001b[0m\u001b[1;33m)\u001b[0m\u001b[1;33m]\u001b[0m\u001b[1;33m)\u001b[0m\u001b[1;33m,\u001b[0m \u001b[0mlog\u001b[0m\u001b[1;33m)\u001b[0m\u001b[1;33m\u001b[0m\u001b[1;33m\u001b[0m\u001b[0m\n\u001b[0m\u001b[0;32m     35\u001b[0m     \u001b[1;32mreturn\u001b[0m \u001b[0mCounter\u001b[0m\u001b[1;33m(\u001b[0m\u001b[1;33m[\u001b[0m\u001b[0mdfg\u001b[0m \u001b[1;32mfor\u001b[0m \u001b[0mlista\u001b[0m \u001b[1;32min\u001b[0m \u001b[0mdfgs\u001b[0m \u001b[1;32mfor\u001b[0m \u001b[0mdfg\u001b[0m \u001b[1;32min\u001b[0m \u001b[0mlista\u001b[0m\u001b[1;33m]\u001b[0m\u001b[1;33m)\u001b[0m\u001b[1;33m\u001b[0m\u001b[1;33m\u001b[0m\u001b[0m\n",
      "\u001b[1;32mD:\\Anaconda3\\envs\\Tensor\\lib\\site-packages\\pm4py\\algo\\discovery\\dfg\\versions\\native.py\u001b[0m in \u001b[0;36m<listcomp>\u001b[1;34m(.0)\u001b[0m\n\u001b[0;32m     32\u001b[0m     \u001b[0mwindow\u001b[0m \u001b[1;33m=\u001b[0m \u001b[0mparameters\u001b[0m\u001b[1;33m[\u001b[0m\u001b[0mWINDOW\u001b[0m\u001b[1;33m]\u001b[0m \u001b[1;32mif\u001b[0m \u001b[0mWINDOW\u001b[0m \u001b[1;32min\u001b[0m \u001b[0mparameters\u001b[0m \u001b[1;32melse\u001b[0m \u001b[0mDEFAULT_WINDOW\u001b[0m\u001b[1;33m\u001b[0m\u001b[1;33m\u001b[0m\u001b[0m\n\u001b[0;32m     33\u001b[0m     \u001b[0mactivity_key\u001b[0m \u001b[1;33m=\u001b[0m \u001b[0mparameters\u001b[0m\u001b[1;33m[\u001b[0m\u001b[0mpmutil\u001b[0m\u001b[1;33m.\u001b[0m\u001b[0mconstants\u001b[0m\u001b[1;33m.\u001b[0m\u001b[0mPARAMETER_CONSTANT_ACTIVITY_KEY\u001b[0m\u001b[1;33m]\u001b[0m\u001b[1;33m\u001b[0m\u001b[1;33m\u001b[0m\u001b[0m\n\u001b[1;32m---> 34\u001b[1;33m     \u001b[0mdfgs\u001b[0m \u001b[1;33m=\u001b[0m \u001b[0mmap\u001b[0m\u001b[1;33m(\u001b[0m\u001b[1;33m(\u001b[0m\u001b[1;32mlambda\u001b[0m \u001b[0mt\u001b[0m\u001b[1;33m:\u001b[0m \u001b[1;33m[\u001b[0m\u001b[1;33m(\u001b[0m\u001b[0mt\u001b[0m\u001b[1;33m[\u001b[0m\u001b[0mi\u001b[0m \u001b[1;33m-\u001b[0m \u001b[0mwindow\u001b[0m\u001b[1;33m]\u001b[0m\u001b[1;33m[\u001b[0m\u001b[0mactivity_key\u001b[0m\u001b[1;33m]\u001b[0m\u001b[1;33m,\u001b[0m \u001b[0mt\u001b[0m\u001b[1;33m[\u001b[0m\u001b[0mi\u001b[0m\u001b[1;33m]\u001b[0m\u001b[1;33m[\u001b[0m\u001b[0mactivity_key\u001b[0m\u001b[1;33m]\u001b[0m\u001b[1;33m)\u001b[0m \u001b[1;32mfor\u001b[0m \u001b[0mi\u001b[0m \u001b[1;32min\u001b[0m \u001b[0mrange\u001b[0m\u001b[1;33m(\u001b[0m\u001b[0mwindow\u001b[0m\u001b[1;33m,\u001b[0m \u001b[0mlen\u001b[0m\u001b[1;33m(\u001b[0m\u001b[0mt\u001b[0m\u001b[1;33m)\u001b[0m\u001b[1;33m)\u001b[0m\u001b[1;33m]\u001b[0m\u001b[1;33m)\u001b[0m\u001b[1;33m,\u001b[0m \u001b[0mlog\u001b[0m\u001b[1;33m)\u001b[0m\u001b[1;33m\u001b[0m\u001b[1;33m\u001b[0m\u001b[0m\n\u001b[0m\u001b[0;32m     35\u001b[0m     \u001b[1;32mreturn\u001b[0m \u001b[0mCounter\u001b[0m\u001b[1;33m(\u001b[0m\u001b[1;33m[\u001b[0m\u001b[0mdfg\u001b[0m \u001b[1;32mfor\u001b[0m \u001b[0mlista\u001b[0m \u001b[1;32min\u001b[0m \u001b[0mdfgs\u001b[0m \u001b[1;32mfor\u001b[0m \u001b[0mdfg\u001b[0m \u001b[1;32min\u001b[0m \u001b[0mlista\u001b[0m\u001b[1;33m]\u001b[0m\u001b[1;33m)\u001b[0m\u001b[1;33m\u001b[0m\u001b[1;33m\u001b[0m\u001b[0m\n",
      "\u001b[1;31mKeyError\u001b[0m: 'concept:name'"
     ]
    }
   ],
   "source": [
    "net, initial_marking, final_marking = alpha_miner.apply(log)\n",
    "gviz = visualizer.apply(net, initial_marking, final_marking)\n",
    "visualizer.view(gviz)"
   ]
  },
  {
   "cell_type": "code",
   "execution_count": 46,
   "metadata": {},
   "outputs": [],
   "source": [
    "class process_mining:\n",
    "    def __init__(self, df,threshold):\n",
    "        self.data = df\n",
    "        self.stages = np.sort(df.stages.unique())\n",
    "        self.stages = np.insert(self.stages,0,\"Start\")\n",
    "        self.stages = np.insert(self.stages,len(self.stages),\"End\")    \n",
    "        self.l = self.stages.shape[0]\n",
    "        self.matrix = np.zeros((self.l,self.l))        \n",
    "        self.bin_matrix = np.zeros((self.l,self.l))\n",
    "        self.indexs = []\n",
    "        self.initial_state = ''\n",
    "        self.initial_index = 0\n",
    "        self.threshold = threshold\n",
    "        self.id = pd.unique(df['id']) \n",
    "    #считает количетсво случаев когда stage1 идёт после stage2 и наоборот  \n",
    "    def numbers_of_cases(self,stage1,stage2):\n",
    "        ar_1=self.data[(self.data.stages==stage1)]\n",
    "        ar_2=self.data[(self.data.stages==stage2)]\n",
    "        ar=ar_1.merge(ar_2,left_on='id', right_on='id')        \n",
    "        #1 значение - кол-во идущих после\n",
    "        #2 значение - кол-во идущих раньше\n",
    "        return [ar[ar.dt_x>ar.dt_y].shape[0],ar[ar.dt_x<ar.dt_y].shape[0]]\n",
    "\n",
    "    #считает коэффициент (1) описанный в статье, который нужно записать в матрицу\n",
    "    def rate(self,rate1,rate2):\n",
    "        return (rate1-rate2)/(rate1+rate2+1)\n",
    "        \n",
    "    #вычисляет матрицу переходных вероятностей\n",
    "    def matrix_prob(self):\n",
    "        for i in range(1,self.l-1):\n",
    "            self.matrix[0][i] = self.data[(self.data.stages==self.stages[i])].shape[0]/self.data.shape[0]\n",
    "        for i in range(1,self.l-1):\n",
    "            for j in range(1,self.l-1):                \n",
    "                self.matrix[i][j]=self.rate(*self.numbers_of_cases(self.stages[i],self.stages[j]))\n",
    "\n",
    "        self.matrix[self.l-1] = np.abs(self.matrix.sum(axis = 1)/self.l)/np.abs(self.matrix.sum(axis = 1)/self.l).sum()        \n",
    "        return self.matrix\n",
    "    \n",
    "    #бинаризируем по порогуth как в статье\n",
    "    def matrix_bin(self):\n",
    "        self.bin_matrix[self.matrix>=self.threshold] = 1\n",
    "        self.bin_matrix[(self.matrix<self.threshold)] = 0\n",
    "        return self.bin_matrix\n",
    "        \n",
    "    #строим граф по matrix_bin\n",
    "    def matrix_for_graph(self):\n",
    "        self.indexs=[]\n",
    "        index=np.all(self.bin_matrix==0,axis=1)\n",
    "        self.initial_state=self.stages[index]\n",
    "        self.initial_index=np.argwhere(index == True)\n",
    "        self.recur_func(*np.argwhere(index== True))\n",
    "        return self.indexs\n",
    "    \n",
    "    #идём по графу процесса из вершины в вершину по маьрице смежности и записываем название рёбер для отрисовки графа\n",
    "    def recur_func(self,*nodes):\n",
    "        nodes_new=[]\n",
    "        ch=0\n",
    "        for node in nodes:\n",
    "            for j in node:\n",
    "                for i in range(self.l):\n",
    "                    if(self.bin_matrix[i,j]):\n",
    "                        ch=1\n",
    "                        self.indexs.extend([str(j)+\"-\"+str(int(i))])\n",
    "                        nodes_new.append(i)\n",
    "                break\n",
    "        if ch==1:\n",
    "            self.recur_func(nodes_new)\n",
    "        else:\n",
    "            return 0 \n",
    "    #отрисовка графа\n",
    "    def graph(self):\n",
    "        self.matrix_prob()\n",
    "        self.matrix_bin()\n",
    "        self.matrix_for_graph()\n",
    "        \n",
    "        dot = Digraph(comment='Process',format = 'pdf')\n",
    "        dot.attr(rankdir='Stages',size='8,5')\n",
    "        \n",
    "        #nodes        \n",
    "        #задаём начальную ноду отдельно\n",
    "        for name, init in zip(self.initial_index,self.initial_state):\n",
    "            dot.node(init)                \n",
    "        ind=np.any(self.bin_matrix>0,axis=1)        \n",
    "        for i in range(self.l):\n",
    "            if ind[i]:\n",
    "                dot.node(self.stages[i])\n",
    "        \n",
    "        #edges\n",
    "        for i in range(1,len(self.stages)-1):\n",
    "            dot.edge(self.stages[0],self.stages[i],\n",
    "                     label = str(float('{:.3f}'.format(self.matrix[0][int(i)]))))\n",
    "            \n",
    "            dot.edge(self.stages[i],self.stages[len(self.stages)-1],\n",
    "                     label = str(float('{:.3f}'.format(self.matrix[self.l-1][int(i)]))))\n",
    "            \n",
    "        for i in range(len(self.indexs)):\n",
    "            a,b = self.indexs[i].split('-')\n",
    "            dot.edge(self.stages[int(a)],\n",
    "                      self.stages[int(b)],\n",
    "                    label = str(float('{:.3f}'.format(self.matrix[int(a)][int(b)]*(-1)))))\n",
    "            \n",
    "        dot.format = 'pdf'\n",
    "        #dot.render()\n",
    "        return dot\n",
    "        \n",
    "    # get методы для удобной работы\n",
    "    def get_matrix(self):\n",
    "        return self.matrix_prob()\n",
    "    \n",
    "    def get_matrix_bin(self):\n",
    "        self.matrix_prob()\n",
    "        return self.matrix_bin()\n",
    "    \n",
    "    def get_matrix_graph(self):\n",
    "        self.matrix_prob()\n",
    "        self.matrix_bin()\n",
    "        return self.matrix_for_graph()\n",
    "    "
   ]
  },
  {
   "cell_type": "code",
   "execution_count": 15,
   "metadata": {},
   "outputs": [
    {
     "data": {
      "text/plain": [
       "array(['Stage_0', 'Stage_3', 'Stage_5', 'Stage_2', 'Stage_7', 'Stage_4',\n",
       "       'Stage_8', 'Stage_9', 'Stage_6', 'Stage_1'], dtype=object)"
      ]
     },
     "execution_count": 15,
     "metadata": {},
     "output_type": "execute_result"
    }
   ],
   "source": [
    "all_events = pd.unique(df['stages'])\n",
    "begin_events = \n",
    "end_events = "
   ]
  },
  {
   "cell_type": "code",
   "execution_count": 47,
   "metadata": {},
   "outputs": [
    {
     "data": {
      "text/plain": [
       "'Digraph.gv.pdf'"
      ]
     },
     "execution_count": 47,
     "metadata": {},
     "output_type": "execute_result"
    }
   ],
   "source": [
    "pm=process_mining(df,0.95)\n",
    "gr = pm.graph()\n",
    "gr.view()"
   ]
  },
  {
   "cell_type": "code",
   "execution_count": 25,
   "metadata": {},
   "outputs": [
    {
     "data": {
      "text/html": [
       "<div>\n",
       "<style scoped>\n",
       "    .dataframe tbody tr th:only-of-type {\n",
       "        vertical-align: middle;\n",
       "    }\n",
       "\n",
       "    .dataframe tbody tr th {\n",
       "        vertical-align: top;\n",
       "    }\n",
       "\n",
       "    .dataframe thead th {\n",
       "        text-align: right;\n",
       "    }\n",
       "</style>\n",
       "<table border=\"1\" class=\"dataframe\">\n",
       "  <thead>\n",
       "    <tr style=\"text-align: right;\">\n",
       "      <th></th>\n",
       "      <th>0</th>\n",
       "      <th>1</th>\n",
       "      <th>2</th>\n",
       "      <th>3</th>\n",
       "      <th>4</th>\n",
       "      <th>5</th>\n",
       "      <th>6</th>\n",
       "      <th>7</th>\n",
       "      <th>8</th>\n",
       "      <th>9</th>\n",
       "      <th>10</th>\n",
       "      <th>11</th>\n",
       "    </tr>\n",
       "  </thead>\n",
       "  <tbody>\n",
       "    <tr>\n",
       "      <th>0</th>\n",
       "      <td>0.000000</td>\n",
       "      <td>0.169917</td>\n",
       "      <td>0.047747</td>\n",
       "      <td>0.150639</td>\n",
       "      <td>0.129343</td>\n",
       "      <td>0.039901</td>\n",
       "      <td>0.137413</td>\n",
       "      <td>0.024658</td>\n",
       "      <td>0.110962</td>\n",
       "      <td>0.141896</td>\n",
       "      <td>0.047523</td>\n",
       "      <td>0.0</td>\n",
       "    </tr>\n",
       "    <tr>\n",
       "      <th>1</th>\n",
       "      <td>0.000000</td>\n",
       "      <td>0.000000</td>\n",
       "      <td>-0.670807</td>\n",
       "      <td>-0.732673</td>\n",
       "      <td>-0.825792</td>\n",
       "      <td>-0.895833</td>\n",
       "      <td>-0.926503</td>\n",
       "      <td>-0.964706</td>\n",
       "      <td>-0.976000</td>\n",
       "      <td>-0.981405</td>\n",
       "      <td>-0.993976</td>\n",
       "      <td>0.0</td>\n",
       "    </tr>\n",
       "    <tr>\n",
       "      <th>2</th>\n",
       "      <td>0.000000</td>\n",
       "      <td>0.670807</td>\n",
       "      <td>0.000000</td>\n",
       "      <td>-0.682432</td>\n",
       "      <td>-0.869565</td>\n",
       "      <td>-0.909091</td>\n",
       "      <td>-0.932836</td>\n",
       "      <td>-0.958333</td>\n",
       "      <td>-0.990476</td>\n",
       "      <td>-0.976744</td>\n",
       "      <td>-0.975610</td>\n",
       "      <td>0.0</td>\n",
       "    </tr>\n",
       "    <tr>\n",
       "      <th>3</th>\n",
       "      <td>0.000000</td>\n",
       "      <td>0.732673</td>\n",
       "      <td>0.682432</td>\n",
       "      <td>0.000000</td>\n",
       "      <td>-0.696429</td>\n",
       "      <td>-0.808333</td>\n",
       "      <td>-0.868106</td>\n",
       "      <td>-0.853333</td>\n",
       "      <td>-0.919881</td>\n",
       "      <td>-0.969977</td>\n",
       "      <td>-0.992754</td>\n",
       "      <td>0.0</td>\n",
       "    </tr>\n",
       "    <tr>\n",
       "      <th>4</th>\n",
       "      <td>0.000000</td>\n",
       "      <td>0.825792</td>\n",
       "      <td>0.869565</td>\n",
       "      <td>0.696429</td>\n",
       "      <td>0.000000</td>\n",
       "      <td>-0.648936</td>\n",
       "      <td>-0.686441</td>\n",
       "      <td>-0.857143</td>\n",
       "      <td>-0.882943</td>\n",
       "      <td>-0.937330</td>\n",
       "      <td>-0.961832</td>\n",
       "      <td>0.0</td>\n",
       "    </tr>\n",
       "    <tr>\n",
       "      <th>5</th>\n",
       "      <td>0.000000</td>\n",
       "      <td>0.895833</td>\n",
       "      <td>0.909091</td>\n",
       "      <td>0.808333</td>\n",
       "      <td>0.648936</td>\n",
       "      <td>0.000000</td>\n",
       "      <td>-0.712963</td>\n",
       "      <td>-0.450000</td>\n",
       "      <td>-0.876404</td>\n",
       "      <td>-0.915888</td>\n",
       "      <td>-0.962963</td>\n",
       "      <td>0.0</td>\n",
       "    </tr>\n",
       "    <tr>\n",
       "      <th>6</th>\n",
       "      <td>0.000000</td>\n",
       "      <td>0.926503</td>\n",
       "      <td>0.932836</td>\n",
       "      <td>0.868106</td>\n",
       "      <td>0.686441</td>\n",
       "      <td>0.712963</td>\n",
       "      <td>0.000000</td>\n",
       "      <td>-0.738462</td>\n",
       "      <td>-0.749186</td>\n",
       "      <td>-0.873385</td>\n",
       "      <td>-0.891304</td>\n",
       "      <td>0.0</td>\n",
       "    </tr>\n",
       "    <tr>\n",
       "      <th>7</th>\n",
       "      <td>0.000000</td>\n",
       "      <td>0.964706</td>\n",
       "      <td>0.958333</td>\n",
       "      <td>0.853333</td>\n",
       "      <td>0.857143</td>\n",
       "      <td>0.450000</td>\n",
       "      <td>0.738462</td>\n",
       "      <td>0.000000</td>\n",
       "      <td>-0.685185</td>\n",
       "      <td>-0.723684</td>\n",
       "      <td>-0.941176</td>\n",
       "      <td>0.0</td>\n",
       "    </tr>\n",
       "    <tr>\n",
       "      <th>8</th>\n",
       "      <td>0.000000</td>\n",
       "      <td>0.976000</td>\n",
       "      <td>0.990476</td>\n",
       "      <td>0.919881</td>\n",
       "      <td>0.882943</td>\n",
       "      <td>0.876404</td>\n",
       "      <td>0.749186</td>\n",
       "      <td>0.685185</td>\n",
       "      <td>0.000000</td>\n",
       "      <td>-0.755700</td>\n",
       "      <td>-0.930693</td>\n",
       "      <td>0.0</td>\n",
       "    </tr>\n",
       "    <tr>\n",
       "      <th>9</th>\n",
       "      <td>0.000000</td>\n",
       "      <td>0.981405</td>\n",
       "      <td>0.976744</td>\n",
       "      <td>0.969977</td>\n",
       "      <td>0.937330</td>\n",
       "      <td>0.915888</td>\n",
       "      <td>0.873385</td>\n",
       "      <td>0.723684</td>\n",
       "      <td>0.755700</td>\n",
       "      <td>0.000000</td>\n",
       "      <td>-0.744526</td>\n",
       "      <td>0.0</td>\n",
       "    </tr>\n",
       "    <tr>\n",
       "      <th>10</th>\n",
       "      <td>0.000000</td>\n",
       "      <td>0.993976</td>\n",
       "      <td>0.975610</td>\n",
       "      <td>0.992754</td>\n",
       "      <td>0.961832</td>\n",
       "      <td>0.962963</td>\n",
       "      <td>0.891304</td>\n",
       "      <td>0.941176</td>\n",
       "      <td>0.930693</td>\n",
       "      <td>0.744526</td>\n",
       "      <td>0.000000</td>\n",
       "      <td>0.0</td>\n",
       "    </tr>\n",
       "    <tr>\n",
       "      <th>11</th>\n",
       "      <td>0.021716</td>\n",
       "      <td>0.173026</td>\n",
       "      <td>0.143853</td>\n",
       "      <td>0.101928</td>\n",
       "      <td>0.056089</td>\n",
       "      <td>0.014246</td>\n",
       "      <td>0.018991</td>\n",
       "      <td>0.053680</td>\n",
       "      <td>0.095413</td>\n",
       "      <td>0.138756</td>\n",
       "      <td>0.182302</td>\n",
       "      <td>0.0</td>\n",
       "    </tr>\n",
       "  </tbody>\n",
       "</table>\n",
       "</div>"
      ],
      "text/plain": [
       "           0         1         2         3         4         5         6  \\\n",
       "0   0.000000  0.169917  0.047747  0.150639  0.129343  0.039901  0.137413   \n",
       "1   0.000000  0.000000 -0.670807 -0.732673 -0.825792 -0.895833 -0.926503   \n",
       "2   0.000000  0.670807  0.000000 -0.682432 -0.869565 -0.909091 -0.932836   \n",
       "3   0.000000  0.732673  0.682432  0.000000 -0.696429 -0.808333 -0.868106   \n",
       "4   0.000000  0.825792  0.869565  0.696429  0.000000 -0.648936 -0.686441   \n",
       "5   0.000000  0.895833  0.909091  0.808333  0.648936  0.000000 -0.712963   \n",
       "6   0.000000  0.926503  0.932836  0.868106  0.686441  0.712963  0.000000   \n",
       "7   0.000000  0.964706  0.958333  0.853333  0.857143  0.450000  0.738462   \n",
       "8   0.000000  0.976000  0.990476  0.919881  0.882943  0.876404  0.749186   \n",
       "9   0.000000  0.981405  0.976744  0.969977  0.937330  0.915888  0.873385   \n",
       "10  0.000000  0.993976  0.975610  0.992754  0.961832  0.962963  0.891304   \n",
       "11  0.021716  0.173026  0.143853  0.101928  0.056089  0.014246  0.018991   \n",
       "\n",
       "           7         8         9        10   11  \n",
       "0   0.024658  0.110962  0.141896  0.047523  0.0  \n",
       "1  -0.964706 -0.976000 -0.981405 -0.993976  0.0  \n",
       "2  -0.958333 -0.990476 -0.976744 -0.975610  0.0  \n",
       "3  -0.853333 -0.919881 -0.969977 -0.992754  0.0  \n",
       "4  -0.857143 -0.882943 -0.937330 -0.961832  0.0  \n",
       "5  -0.450000 -0.876404 -0.915888 -0.962963  0.0  \n",
       "6  -0.738462 -0.749186 -0.873385 -0.891304  0.0  \n",
       "7   0.000000 -0.685185 -0.723684 -0.941176  0.0  \n",
       "8   0.685185  0.000000 -0.755700 -0.930693  0.0  \n",
       "9   0.723684  0.755700  0.000000 -0.744526  0.0  \n",
       "10  0.941176  0.930693  0.744526  0.000000  0.0  \n",
       "11  0.053680  0.095413  0.138756  0.182302  0.0  "
      ]
     },
     "execution_count": 25,
     "metadata": {},
     "output_type": "execute_result"
    }
   ],
   "source": [
    "pd.DataFrame(pm.matrix)"
   ]
  }
 ],
 "metadata": {
  "kernelspec": {
   "display_name": "Python 3",
   "language": "python",
   "name": "python3"
  },
  "language_info": {
   "codemirror_mode": {
    "name": "ipython",
    "version": 3
   },
   "file_extension": ".py",
   "mimetype": "text/x-python",
   "name": "python",
   "nbconvert_exporter": "python",
   "pygments_lexer": "ipython3",
   "version": "3.7.5"
  }
 },
 "nbformat": 4,
 "nbformat_minor": 2
}
