{
 "cells": [
  {
   "cell_type": "code",
   "execution_count": 1,
   "metadata": {},
   "outputs": [],
   "source": [
    "import numpy as np\n",
    "import pandas as pd\n",
    "from sklearn.tree import export_graphviz, plot_tree\n",
    "from graphviz import Source,Digraph\n",
    "from sklearn.tree import DecisionTreeClassifier"
   ]
  },
  {
   "cell_type": "code",
   "execution_count": 2,
   "metadata": {},
   "outputs": [],
   "source": [
    "class Generator():\n",
    "    def __init__(self, n_stages=6,  n_ways=4, size=100):\n",
    "        self.df = None        \n",
    "        self.n_stages = n_stages\n",
    "        self.n_ways = n_ways\n",
    "        self.size = size\n",
    "    \n",
    "    def make_df(self):\n",
    "        df_len = self.n_ways * self.size\n",
    "        data = pd.DataFrame(np.arange(df_len), columns=['id'])\n",
    "        data['stages'] = [0] * df_len\n",
    "        ways = []\n",
    "        while len(ways) != self.n_ways:\n",
    "            way = [1] # start\n",
    "            way_len = np.random.randint(2, self.n_stages)\n",
    "            for _ in range(way_len):\n",
    "                stage = np.random.randint(2, self.n_stages)\n",
    "                way.append(stage)\n",
    "            way.append(self.n_stages)\n",
    "            way = pd.unique(way).tolist()\n",
    "            if way not in ways and len(way) > 2:\n",
    "                ways.append(way)                \n",
    "        ways = np.repeat(ways, self.size)\n",
    "        data['stages'] = ways            \n",
    "        self.df = data\n",
    "        return self    \n",
    "    def make_features(self):\n",
    "        data = self.df\n",
    "        data = data.explode('stages')\n",
    "        data['stages'] = data['stages'].astype(str)\n",
    "        data['from'] = data.groupby(['id'])['stages'].shift(1)          \n",
    "        edges = data.loc[:, ['from', \"stages\"]].drop_duplicates().dropna().values\n",
    "        edges = [list(map(str, edge)) for edge in edges]                \n",
    "        feature_cols = []\n",
    "        i = 0\n",
    "        for stage in data['stages'].unique():               \n",
    "            transitions = list(filter(lambda x: stage in x[0], edges))\n",
    "            if len(transitions) > 1:                \n",
    "                stage_from = stage\n",
    "                stages_to = [transition[1] for transition in transitions]\n",
    "\n",
    "                train_mask = data['from'] == stage_from\n",
    "\n",
    "                feat_name = 'X_{}'.format(i)\n",
    "                for feat, stage_to in enumerate(stages_to):\n",
    "                    mask = (data[\"stages\"] == stage_to) & (data['from'] == stage_from)\n",
    "                    data.loc[mask, feat_name] = (feat + 1) \n",
    "                    data.loc[mask, feat_name] += 1.1 * np.random.random(data.loc[mask, feat_name].shape[0]) - 0.55\n",
    "                feature_cols.append(feat_name)\n",
    "            i += 1\n",
    "        data[data.columns[3:]] = data[data.columns[3:]].fillna(0)\n",
    "        self.df = data\n",
    "        return feature_cols, data        "
   ]
  },
  {
   "cell_type": "code",
   "execution_count": 18,
   "metadata": {},
   "outputs": [],
   "source": [
    "class RuleFinder():\n",
    "    def __init__(self, df, id_col, stage_col, feature_cols):\n",
    "        self.df = df\n",
    "        self.id_col = id_col\n",
    "        self.stage_col = stage_col\n",
    "        self.feature_cols = feature_cols\n",
    "        self.graph = None\n",
    "        \n",
    "    def create_graph(self):\n",
    "        stages = self.df[self.stage_col].unique()\n",
    "        graph = Digraph(comment='Process', format = 'pdf')\n",
    "        for stage in stages:\n",
    "            graph.node(str(stage))\n",
    "        self.df['from'] = self.df.groupby([self.id_col])[self.stage_col].shift(1)\n",
    "        edges = self.df.loc[:, ['from', self.stage_col]].drop_duplicates().dropna().values\n",
    "        edges = [list(map(str, edge)) for edge in edges]\n",
    "        graph.edges(edges)\n",
    "        self.graph = graph\n",
    "        return graph\n",
    "    \n",
    "    def _save_dot(self, trees):\n",
    "        for num, tree in trees.items():\n",
    "            if tree != None:\n",
    "                export_graphviz(trees[num], out_file='tree{}.dot'.format(num),\n",
    "                    feature_names=self.feature_cols,node_ids=True)\n",
    "    \n",
    "    def _make_features(self):\n",
    "        feature_cols = []\n",
    "        i = 0\n",
    "        for stage in self.df[self.stage_col].unique():\n",
    "            transitions_str = list(filter(lambda x: '\\t{} -> '.format(stage) in x, self.graph.body))\n",
    "            if len(transitions_str) > 1:\n",
    "                feature_cols.append('X_{}'.format(i))\n",
    "                self.df['X_{}'.format(i)] = np.zeros(shape=self.df.shape[0])\n",
    "                \n",
    "                transitions = list(map(lambda x: x.strip().split(\" -> \"), transitions_str))\n",
    "\n",
    "                stage_from = stage\n",
    "                stages_to = [transition[1] for transition in transitions]\n",
    "\n",
    "                train_mask = self.df['from'] == stage_from\n",
    "\n",
    "                for feat, stage_to in enumerate(stages_to):\n",
    "                    mask = (self.df[self.stage_col] == stage_to) & (self.df['from'] == stage_from)\n",
    "                    self.df.loc[mask, 'X_{}'.format(i)] = feat + 1\n",
    "                    self.df.loc[mask, 'X_{}'.format(i)] += 1.5*np.random.random(self.df.loc[mask, 'X_{}'.format(i)].shape[0]) -0.75\n",
    "                i += 1\n",
    "        self.feature_cols = feature_cols\n",
    "        return self.df\n",
    "    \n",
    "    def compute_trees(self,min_impurity_decrease = 0.0015):\n",
    "        trees = {}\n",
    "        for stage in self.df[self.stage_col].unique():\n",
    "            transitions_str = list(filter(lambda x: '\\t{} -> '.format(stage) in x, self.graph.body))\n",
    "            if len(transitions_str) > 1:\n",
    "                transitions = list(map(lambda x: x.strip().split(\" -> \"), transitions_str))\n",
    "\n",
    "                stage_from = stage\n",
    "                stages_to = [transition[1] for transition in transitions]\n",
    "\n",
    "                train_mask = self.df['from'] == stage_from\n",
    "\n",
    "                for stage_to in stages_to:\n",
    "                    mask = (self.df[self.stage_col] == stage_to) & (self.df['from'] == stage_from)\n",
    "                    self.df.loc[mask, '_target_'] = stage_to\n",
    "\n",
    "                X = self.df.loc[train_mask, self.feature_cols].values\n",
    "                y = self.df.loc[train_mask, '_target_']\n",
    "                \n",
    "                min_class_ratio = 0.3 * np.min(y.value_counts()) / y.shape[0]\n",
    "                tree = DecisionTreeClassifier(min_samples_leaf=min_class_ratio, min_impurity_split=0.2, min_impurity_decrease=min_impurity_decrease)\n",
    "                tree.fit(X, y)\n",
    "                \n",
    "                trees[stage] = tree\n",
    "            else:\n",
    "                trees[stage] = None\n",
    "        self.df.drop('_target_', inplace=True, axis=1)\n",
    "        \n",
    "        self._save_dot(trees)\n",
    "        return trees\n",
    "    "
   ]
  },
  {
   "cell_type": "code",
   "execution_count": 28,
   "metadata": {},
   "outputs": [],
   "source": [
    "gen = Generator(n_stages=5, n_ways=10).make_df()\n",
    "feature_cols, data = gen.make_features()"
   ]
  },
  {
   "cell_type": "code",
   "execution_count": 36,
   "metadata": {},
   "outputs": [
    {
     "name": "stderr",
     "output_type": "stream",
     "text": [
      "D:\\Anaconda3\\envs\\Tensor\\lib\\site-packages\\sklearn\\tree\\tree.py:297: DeprecationWarning: The min_impurity_split parameter is deprecated. Its default value will change from 1e-7 to 0 in version 0.23, and it will be removed in 0.25. Use the min_impurity_decrease parameter instead.\n",
      "  DeprecationWarning)\n",
      "D:\\Anaconda3\\envs\\Tensor\\lib\\site-packages\\sklearn\\tree\\tree.py:297: DeprecationWarning: The min_impurity_split parameter is deprecated. Its default value will change from 1e-7 to 0 in version 0.23, and it will be removed in 0.25. Use the min_impurity_decrease parameter instead.\n",
      "  DeprecationWarning)\n",
      "D:\\Anaconda3\\envs\\Tensor\\lib\\site-packages\\sklearn\\tree\\tree.py:297: DeprecationWarning: The min_impurity_split parameter is deprecated. Its default value will change from 1e-7 to 0 in version 0.23, and it will be removed in 0.25. Use the min_impurity_decrease parameter instead.\n",
      "  DeprecationWarning)\n",
      "D:\\Anaconda3\\envs\\Tensor\\lib\\site-packages\\sklearn\\tree\\tree.py:297: DeprecationWarning: The min_impurity_split parameter is deprecated. Its default value will change from 1e-7 to 0 in version 0.23, and it will be removed in 0.25. Use the min_impurity_decrease parameter instead.\n",
      "  DeprecationWarning)\n"
     ]
    }
   ],
   "source": [
    "rule_finder = RuleFinder(data, 'id', 'stages', feature_cols)\n",
    "graph = rule_finder.create_graph()\n",
    "trees = rule_finder.compute_trees()"
   ]
  },
  {
   "cell_type": "code",
   "execution_count": 31,
   "metadata": {},
   "outputs": [
    {
     "data": {
      "text/plain": [
       "{'1': DecisionTreeClassifier(class_weight=None, criterion='gini', max_depth=None,\n",
       "                        max_features=None, max_leaf_nodes=None,\n",
       "                        min_impurity_decrease=0.0015, min_impurity_split=0.2,\n",
       "                        min_samples_leaf=0.09, min_samples_split=2,\n",
       "                        min_weight_fraction_leaf=0.0, presort=False,\n",
       "                        random_state=None, splitter='best'),\n",
       " '4': DecisionTreeClassifier(class_weight=None, criterion='gini', max_depth=None,\n",
       "                        max_features=None, max_leaf_nodes=None,\n",
       "                        min_impurity_decrease=0.0015, min_impurity_split=0.2,\n",
       "                        min_samples_leaf=0.04285714285714286,\n",
       "                        min_samples_split=2, min_weight_fraction_leaf=0.0,\n",
       "                        presort=False, random_state=None, splitter='best'),\n",
       " '3': DecisionTreeClassifier(class_weight=None, criterion='gini', max_depth=None,\n",
       "                        max_features=None, max_leaf_nodes=None,\n",
       "                        min_impurity_decrease=0.0015, min_impurity_split=0.2,\n",
       "                        min_samples_leaf=0.05, min_samples_split=2,\n",
       "                        min_weight_fraction_leaf=0.0, presort=False,\n",
       "                        random_state=None, splitter='best'),\n",
       " '5': None,\n",
       " '2': DecisionTreeClassifier(class_weight=None, criterion='gini', max_depth=None,\n",
       "                        max_features=None, max_leaf_nodes=None,\n",
       "                        min_impurity_decrease=0.0015, min_impurity_split=0.2,\n",
       "                        min_samples_leaf=0.04285714285714286,\n",
       "                        min_samples_split=2, min_weight_fraction_leaf=0.0,\n",
       "                        presort=False, random_state=None, splitter='best')}"
      ]
     },
     "execution_count": 31,
     "metadata": {},
     "output_type": "execute_result"
    }
   ],
   "source": [
    "trees"
   ]
  },
  {
   "cell_type": "code",
   "execution_count": 35,
   "metadata": {},
   "outputs": [
    {
     "data": {
      "image/svg+xml": [
       "<?xml version=\"1.0\" encoding=\"UTF-8\" standalone=\"no\"?>\r\n",
       "<!DOCTYPE svg PUBLIC \"-//W3C//DTD SVG 1.1//EN\"\r\n",
       " \"http://www.w3.org/Graphics/SVG/1.1/DTD/svg11.dtd\">\r\n",
       "<!-- Generated by graphviz version 2.38.0 (20140413.2041)\r\n",
       " -->\r\n",
       "<!-- Title: Tree Pages: 1 -->\r\n",
       "<svg width=\"339pt\" height=\"314pt\"\r\n",
       " viewBox=\"0.00 0.00 338.50 314.00\" xmlns=\"http://www.w3.org/2000/svg\" xmlns:xlink=\"http://www.w3.org/1999/xlink\">\r\n",
       "<g id=\"graph0\" class=\"graph\" transform=\"scale(1 1) rotate(0) translate(4 310)\">\r\n",
       "<title>Tree</title>\r\n",
       "<polygon fill=\"white\" stroke=\"none\" points=\"-4,4 -4,-310 334.5,-310 334.5,4 -4,4\"/>\r\n",
       "<!-- 0 -->\r\n",
       "<g id=\"node1\" class=\"node\"><title>0</title>\r\n",
       "<polygon fill=\"none\" stroke=\"black\" points=\"270,-306 124,-306 124,-223 270,-223 270,-306\"/>\r\n",
       "<text text-anchor=\"middle\" x=\"197\" y=\"-290.8\" font-family=\"Times New Roman,serif\" font-size=\"14.00\">node #0</text>\r\n",
       "<text text-anchor=\"middle\" x=\"197\" y=\"-275.8\" font-family=\"Times New Roman,serif\" font-size=\"14.00\">X_4 &lt;= 2.54</text>\r\n",
       "<text text-anchor=\"middle\" x=\"197\" y=\"-260.8\" font-family=\"Times New Roman,serif\" font-size=\"14.00\">gini = 0.612</text>\r\n",
       "<text text-anchor=\"middle\" x=\"197\" y=\"-245.8\" font-family=\"Times New Roman,serif\" font-size=\"14.00\">samples = 700</text>\r\n",
       "<text text-anchor=\"middle\" x=\"197\" y=\"-230.8\" font-family=\"Times New Roman,serif\" font-size=\"14.00\">value = [100, 300, 300]</text>\r\n",
       "</g>\r\n",
       "<!-- 1 -->\r\n",
       "<g id=\"node2\" class=\"node\"><title>1</title>\r\n",
       "<polygon fill=\"none\" stroke=\"black\" points=\"193.5,-187 54.5,-187 54.5,-104 193.5,-104 193.5,-187\"/>\r\n",
       "<text text-anchor=\"middle\" x=\"124\" y=\"-171.8\" font-family=\"Times New Roman,serif\" font-size=\"14.00\">node #1</text>\r\n",
       "<text text-anchor=\"middle\" x=\"124\" y=\"-156.8\" font-family=\"Times New Roman,serif\" font-size=\"14.00\">X_4 &lt;= 1.462</text>\r\n",
       "<text text-anchor=\"middle\" x=\"124\" y=\"-141.8\" font-family=\"Times New Roman,serif\" font-size=\"14.00\">gini = 0.438</text>\r\n",
       "<text text-anchor=\"middle\" x=\"124\" y=\"-126.8\" font-family=\"Times New Roman,serif\" font-size=\"14.00\">samples = 423</text>\r\n",
       "<text text-anchor=\"middle\" x=\"124\" y=\"-111.8\" font-family=\"Times New Roman,serif\" font-size=\"14.00\">value = [100, 300, 23]</text>\r\n",
       "</g>\r\n",
       "<!-- 0&#45;&gt;1 -->\r\n",
       "<g id=\"edge1\" class=\"edge\"><title>0&#45;&gt;1</title>\r\n",
       "<path fill=\"none\" stroke=\"black\" d=\"M171.673,-222.907C166.181,-214.105 160.315,-204.703 154.643,-195.612\"/>\r\n",
       "<polygon fill=\"black\" stroke=\"black\" points=\"157.545,-193.652 149.282,-187.021 151.606,-197.358 157.545,-193.652\"/>\r\n",
       "<text text-anchor=\"middle\" x=\"143.642\" y=\"-207.676\" font-family=\"Times New Roman,serif\" font-size=\"14.00\">True</text>\r\n",
       "</g>\r\n",
       "<!-- 4 -->\r\n",
       "<g id=\"node5\" class=\"node\"><title>4</title>\r\n",
       "<polygon fill=\"none\" stroke=\"black\" points=\"330.5,-179.5 211.5,-179.5 211.5,-111.5 330.5,-111.5 330.5,-179.5\"/>\r\n",
       "<text text-anchor=\"middle\" x=\"271\" y=\"-164.3\" font-family=\"Times New Roman,serif\" font-size=\"14.00\">node #4</text>\r\n",
       "<text text-anchor=\"middle\" x=\"271\" y=\"-149.3\" font-family=\"Times New Roman,serif\" font-size=\"14.00\">gini = 0.0</text>\r\n",
       "<text text-anchor=\"middle\" x=\"271\" y=\"-134.3\" font-family=\"Times New Roman,serif\" font-size=\"14.00\">samples = 277</text>\r\n",
       "<text text-anchor=\"middle\" x=\"271\" y=\"-119.3\" font-family=\"Times New Roman,serif\" font-size=\"14.00\">value = [0, 0, 277]</text>\r\n",
       "</g>\r\n",
       "<!-- 0&#45;&gt;4 -->\r\n",
       "<g id=\"edge4\" class=\"edge\"><title>0&#45;&gt;4</title>\r\n",
       "<path fill=\"none\" stroke=\"black\" d=\"M222.674,-222.907C229.723,-211.763 237.379,-199.658 244.474,-188.439\"/>\r\n",
       "<polygon fill=\"black\" stroke=\"black\" points=\"247.635,-189.989 250.023,-179.667 241.719,-186.248 247.635,-189.989\"/>\r\n",
       "<text text-anchor=\"middle\" x=\"255.513\" y=\"-200.356\" font-family=\"Times New Roman,serif\" font-size=\"14.00\">False</text>\r\n",
       "</g>\r\n",
       "<!-- 2 -->\r\n",
       "<g id=\"node3\" class=\"node\"><title>2</title>\r\n",
       "<polygon fill=\"none\" stroke=\"black\" points=\"112,-68 7.10543e-015,-68 7.10543e-015,-0 112,-0 112,-68\"/>\r\n",
       "<text text-anchor=\"middle\" x=\"56\" y=\"-52.8\" font-family=\"Times New Roman,serif\" font-size=\"14.00\">node #2</text>\r\n",
       "<text text-anchor=\"middle\" x=\"56\" y=\"-37.8\" font-family=\"Times New Roman,serif\" font-size=\"14.00\">gini = 0.022</text>\r\n",
       "<text text-anchor=\"middle\" x=\"56\" y=\"-22.8\" font-family=\"Times New Roman,serif\" font-size=\"14.00\">samples = 92</text>\r\n",
       "<text text-anchor=\"middle\" x=\"56\" y=\"-7.8\" font-family=\"Times New Roman,serif\" font-size=\"14.00\">value = [91, 1, 0]</text>\r\n",
       "</g>\r\n",
       "<!-- 1&#45;&gt;2 -->\r\n",
       "<g id=\"edge2\" class=\"edge\"><title>1&#45;&gt;2</title>\r\n",
       "<path fill=\"none\" stroke=\"black\" d=\"M98.6793,-103.726C93.2418,-94.9703 87.4869,-85.7032 82.0232,-76.9051\"/>\r\n",
       "<polygon fill=\"black\" stroke=\"black\" points=\"84.9281,-74.9484 76.6792,-68.2996 78.9815,-78.6413 84.9281,-74.9484\"/>\r\n",
       "</g>\r\n",
       "<!-- 3 -->\r\n",
       "<g id=\"node4\" class=\"node\"><title>3</title>\r\n",
       "<polygon fill=\"none\" stroke=\"black\" points=\"255.5,-68 130.5,-68 130.5,-0 255.5,-0 255.5,-68\"/>\r\n",
       "<text text-anchor=\"middle\" x=\"193\" y=\"-52.8\" font-family=\"Times New Roman,serif\" font-size=\"14.00\">node #3</text>\r\n",
       "<text text-anchor=\"middle\" x=\"193\" y=\"-37.8\" font-family=\"Times New Roman,serif\" font-size=\"14.00\">gini = 0.178</text>\r\n",
       "<text text-anchor=\"middle\" x=\"193\" y=\"-22.8\" font-family=\"Times New Roman,serif\" font-size=\"14.00\">samples = 331</text>\r\n",
       "<text text-anchor=\"middle\" x=\"193\" y=\"-7.8\" font-family=\"Times New Roman,serif\" font-size=\"14.00\">value = [9, 299, 23]</text>\r\n",
       "</g>\r\n",
       "<!-- 1&#45;&gt;3 -->\r\n",
       "<g id=\"edge3\" class=\"edge\"><title>1&#45;&gt;3</title>\r\n",
       "<path fill=\"none\" stroke=\"black\" d=\"M149.693,-103.726C155.211,-94.9703 161.05,-85.7032 166.594,-76.9051\"/>\r\n",
       "<polygon fill=\"black\" stroke=\"black\" points=\"169.647,-78.6259 172.017,-68.2996 163.724,-74.8941 169.647,-78.6259\"/>\r\n",
       "</g>\r\n",
       "</g>\r\n",
       "</svg>\r\n"
      ],
      "text/plain": [
       "<graphviz.files.Source at 0x18b2714dd48>"
      ]
     },
     "execution_count": 35,
     "metadata": {},
     "output_type": "execute_result"
    }
   ],
   "source": [
    "file = open('tree{}.dot'.format('2'), 'r')\n",
    "text=file.read()\n",
    "Source(text)"
   ]
  },
  {
   "cell_type": "code",
   "execution_count": 30,
   "metadata": {
    "scrolled": true
   },
   "outputs": [
    {
     "data": {
      "text/plain": [
       "'Digraph.gv.pdf'"
      ]
     },
     "execution_count": 30,
     "metadata": {},
     "output_type": "execute_result"
    }
   ],
   "source": [
    "graph.view()"
   ]
  }
 ],
 "metadata": {
  "kernelspec": {
   "display_name": "Python 3",
   "language": "python",
   "name": "python3"
  },
  "language_info": {
   "codemirror_mode": {
    "name": "ipython",
    "version": 3
   },
   "file_extension": ".py",
   "mimetype": "text/x-python",
   "name": "python",
   "nbconvert_exporter": "python",
   "pygments_lexer": "ipython3",
   "version": "3.7.3"
  }
 },
 "nbformat": 4,
 "nbformat_minor": 2
}
