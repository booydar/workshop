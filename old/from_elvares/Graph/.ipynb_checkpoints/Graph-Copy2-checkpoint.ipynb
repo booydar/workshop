{
 "cells": [
  {
   "cell_type": "code",
   "execution_count": 19,
   "metadata": {},
   "outputs": [],
   "source": [
    "import numpy as np\n",
    "import pandas as pd\n",
    "from sklearn.tree import export_graphviz\n",
    "from graphviz import Source,Digraph\n",
    "from sklearn.tree import DecisionTreeClassifier"
   ]
  },
  {
   "cell_type": "code",
   "execution_count": 2,
   "metadata": {},
   "outputs": [],
   "source": [
    "array = np.arange(80)\n",
    "data = pd.DataFrame(array)"
   ]
  },
  {
   "cell_type": "code",
   "execution_count": 3,
   "metadata": {},
   "outputs": [],
   "source": [
    "data['stages'] = 0\n",
    "data['X'] = 0"
   ]
  },
  {
   "cell_type": "code",
   "execution_count": 4,
   "metadata": {},
   "outputs": [],
   "source": [
    "data.loc[0:20,'stages'] = data.loc[0:20,'stages'].apply(lambda x: [1,2,4])\n",
    "data.loc[20:40,'stages']= data.loc[20:40,'stages'].apply(lambda x: [1,3,4])\n",
    "data.loc[40:60,'stages']= data.loc[40:60,'stages'].apply(lambda x: [1,3,5,4])\n",
    "data.loc[60:80,'stages']= data.loc[60:80,'stages'].apply(lambda x: [1,4])\n",
    "\n",
    "data.loc[0:20,'X'] = data.loc[0:20,'X'].apply(lambda x:np.random.randint(-10,-1))\n",
    "data.loc[20:40,'X'] = data.loc[20:40,'X'].apply(lambda x:np.random.randint(1,9))\n",
    "data.loc[40:60,'X'] = data.loc[40:60,'X'].apply(lambda x:0)\n",
    "data.loc[60:80,'X'] = data.loc[60:80,'X'].apply(lambda x:np.random.randint(10,20))"
   ]
  },
  {
   "cell_type": "code",
   "execution_count": 5,
   "metadata": {},
   "outputs": [],
   "source": [
    "data = data.explode('stages')"
   ]
  },
  {
   "cell_type": "code",
   "execution_count": 6,
   "metadata": {},
   "outputs": [],
   "source": [
    "data = data.rename(columns = {0:'id'})"
   ]
  },
  {
   "cell_type": "code",
   "execution_count": 7,
   "metadata": {},
   "outputs": [
    {
     "data": {
      "text/plain": [
       "(240, 3)"
      ]
     },
     "execution_count": 7,
     "metadata": {},
     "output_type": "execute_result"
    }
   ],
   "source": [
    "data.shape"
   ]
  },
  {
   "cell_type": "code",
   "execution_count": 10,
   "metadata": {},
   "outputs": [],
   "source": [
    "dot = Digraph(comment='Process',format = 'pdf')\n",
    "for i in [1,2,3,4,5]:\n",
    "    dot.node(str(i))"
   ]
  },
  {
   "cell_type": "code",
   "execution_count": 11,
   "metadata": {},
   "outputs": [
    {
     "data": {
      "text/plain": [
       "['\\t1', '\\t2', '\\t3', '\\t4', '\\t5']"
      ]
     },
     "execution_count": 11,
     "metadata": {},
     "output_type": "execute_result"
    }
   ],
   "source": [
    "dot.body"
   ]
  },
  {
   "cell_type": "code",
   "execution_count": 131,
   "metadata": {},
   "outputs": [
    {
     "data": {
      "text/plain": [
       "[(1, 1), (1, 2), (1, 3), (2, 1), (2, 2), (2, 3), (3, 1), (3, 2), (3, 3)]"
      ]
     },
     "execution_count": 131,
     "metadata": {},
     "output_type": "execute_result"
    }
   ],
   "source": [
    "from itertools import product\n",
    "list(product([1,2,3],repeat = 2))"
   ]
  },
  {
   "cell_type": "code",
   "execution_count": 12,
   "metadata": {},
   "outputs": [],
   "source": [
    "dot.edges(['12','13','24','34','14','35','54'])"
   ]
  },
  {
   "cell_type": "code",
   "execution_count": null,
   "metadata": {},
   "outputs": [],
   "source": [
    "def function(df):\n",
    "    df['from'] = df.groupby(['id'])['stages'].shift(1)\n",
    "    \n",
    "    return X,Y"
   ]
  },
  {
   "cell_type": "code",
   "execution_count": 13,
   "metadata": {},
   "outputs": [],
   "source": [
    "data['from'] = data.groupby(['id'])['stages'].shift(1)"
   ]
  },
  {
   "cell_type": "code",
   "execution_count": 24,
   "metadata": {},
   "outputs": [
    {
     "name": "stdout",
     "output_type": "stream",
     "text": [
      "['\\t1 -> 2', '\\t1 -> 3', '\\t1 -> 4']\n",
      "['\\t3 -> 4', '\\t3 -> 5']\n"
     ]
    }
   ],
   "source": [
    "stages = [1,2,3,4,5]\n",
    "list_id = []\n",
    "for i in stages:\n",
    "    transitions = list(filter(lambda x: '\\t{} ->'.format(i) in x,dot.body))\n",
    "    if len(transitions) > 1:\n",
    "        print(transitions)\n",
    "        list_nodes = list(map(lambda x: list(map(lambda s: int(s.strip()),x.strip().split(\"->\"))),transitions))\n",
    "    \n",
    "        data_x_id = data.loc[data['stages'] == list_nodes[0][0],['id','X']]\n",
    "        \n",
    "        nodes = [node[1] for node in list_nodes]\n",
    "        \n",
    "        for param in nodes:\n",
    "            mask_to = data['stages'] == param\n",
    "            mask_from = data['from'] == list_nodes[0][0]\n",
    "            mask = mask_to & mask_from\n",
    "            list_id.append(data.loc[mask,['id']].values.reshape(-1))        \n",
    "        \n",
    "        for j in range(len(list_id)):\n",
    "            data_x_id.loc[data_x_id['id'].isin(list_id[j]),'target'] = j    \n",
    "        \n",
    "        tree = DecisionTreeClassifier()    \n",
    "        tree.fit(data_x_id['X'].values.reshape((-1,1)),data_x_id['target'])\n",
    "        export_graphviz(tree, out_file='tree{}.dot'.format(i),\n",
    "                feature_names=['X'],node_ids=True)"
   ]
  },
  {
   "cell_type": "code",
   "execution_count": 21,
   "metadata": {},
   "outputs": [],
   "source": [
    "for i in range(len(list_id)):\n",
    "    data_x_id.loc[data_x_id['id'].isin(list_id[i]),'target'] = i    "
   ]
  },
  {
   "cell_type": "code",
   "execution_count": 28,
   "metadata": {},
   "outputs": [
    {
     "data": {
      "image/svg+xml": [
       "<?xml version=\"1.0\" encoding=\"UTF-8\" standalone=\"no\"?>\r\n",
       "<!DOCTYPE svg PUBLIC \"-//W3C//DTD SVG 1.1//EN\"\r\n",
       " \"http://www.w3.org/Graphics/SVG/1.1/DTD/svg11.dtd\">\r\n",
       "<!-- Generated by graphviz version 2.38.0 (20140413.2041)\r\n",
       " -->\r\n",
       "<!-- Title: Tree Pages: 1 -->\r\n",
       "<svg width=\"222pt\" height=\"195pt\"\r\n",
       " viewBox=\"0.00 0.00 222.00 195.00\" xmlns=\"http://www.w3.org/2000/svg\" xmlns:xlink=\"http://www.w3.org/1999/xlink\">\r\n",
       "<g id=\"graph0\" class=\"graph\" transform=\"scale(1 1) rotate(0) translate(4 191)\">\r\n",
       "<title>Tree</title>\r\n",
       "<polygon fill=\"white\" stroke=\"none\" points=\"-4,4 -4,-191 218,-191 218,4 -4,4\"/>\r\n",
       "<!-- 0 -->\r\n",
       "<g id=\"node1\" class=\"node\"><title>0</title>\r\n",
       "<polygon fill=\"none\" stroke=\"black\" points=\"159,-187 55,-187 55,-104 159,-104 159,-187\"/>\r\n",
       "<text text-anchor=\"middle\" x=\"107\" y=\"-171.8\" font-family=\"Times New Roman,serif\" font-size=\"14.00\">node #0</text>\r\n",
       "<text text-anchor=\"middle\" x=\"107\" y=\"-156.8\" font-family=\"Times New Roman,serif\" font-size=\"14.00\">X &lt;= 0.5</text>\r\n",
       "<text text-anchor=\"middle\" x=\"107\" y=\"-141.8\" font-family=\"Times New Roman,serif\" font-size=\"14.00\">gini = 0.5</text>\r\n",
       "<text text-anchor=\"middle\" x=\"107\" y=\"-126.8\" font-family=\"Times New Roman,serif\" font-size=\"14.00\">samples = 40</text>\r\n",
       "<text text-anchor=\"middle\" x=\"107\" y=\"-111.8\" font-family=\"Times New Roman,serif\" font-size=\"14.00\">value = [20, 20]</text>\r\n",
       "</g>\r\n",
       "<!-- 1 -->\r\n",
       "<g id=\"node2\" class=\"node\"><title>1</title>\r\n",
       "<polygon fill=\"none\" stroke=\"black\" points=\"98,-68 0,-68 0,-0 98,-0 98,-68\"/>\r\n",
       "<text text-anchor=\"middle\" x=\"49\" y=\"-52.8\" font-family=\"Times New Roman,serif\" font-size=\"14.00\">node #1</text>\r\n",
       "<text text-anchor=\"middle\" x=\"49\" y=\"-37.8\" font-family=\"Times New Roman,serif\" font-size=\"14.00\">gini = 0.0</text>\r\n",
       "<text text-anchor=\"middle\" x=\"49\" y=\"-22.8\" font-family=\"Times New Roman,serif\" font-size=\"14.00\">samples = 20</text>\r\n",
       "<text text-anchor=\"middle\" x=\"49\" y=\"-7.8\" font-family=\"Times New Roman,serif\" font-size=\"14.00\">value = [0, 20]</text>\r\n",
       "</g>\r\n",
       "<!-- 0&#45;&gt;1 -->\r\n",
       "<g id=\"edge1\" class=\"edge\"><title>0&#45;&gt;1</title>\r\n",
       "<path fill=\"none\" stroke=\"black\" d=\"M85.4029,-103.726C80.8134,-95.0615 75.9587,-85.8962 71.342,-77.1802\"/>\r\n",
       "<polygon fill=\"black\" stroke=\"black\" points=\"74.4118,-75.4982 66.6381,-68.2996 68.226,-78.7748 74.4118,-75.4982\"/>\r\n",
       "<text text-anchor=\"middle\" x=\"59.291\" y=\"-88.4956\" font-family=\"Times New Roman,serif\" font-size=\"14.00\">True</text>\r\n",
       "</g>\r\n",
       "<!-- 2 -->\r\n",
       "<g id=\"node3\" class=\"node\"><title>2</title>\r\n",
       "<polygon fill=\"none\" stroke=\"black\" points=\"214,-68 116,-68 116,-0 214,-0 214,-68\"/>\r\n",
       "<text text-anchor=\"middle\" x=\"165\" y=\"-52.8\" font-family=\"Times New Roman,serif\" font-size=\"14.00\">node #2</text>\r\n",
       "<text text-anchor=\"middle\" x=\"165\" y=\"-37.8\" font-family=\"Times New Roman,serif\" font-size=\"14.00\">gini = 0.0</text>\r\n",
       "<text text-anchor=\"middle\" x=\"165\" y=\"-22.8\" font-family=\"Times New Roman,serif\" font-size=\"14.00\">samples = 20</text>\r\n",
       "<text text-anchor=\"middle\" x=\"165\" y=\"-7.8\" font-family=\"Times New Roman,serif\" font-size=\"14.00\">value = [20, 0]</text>\r\n",
       "</g>\r\n",
       "<!-- 0&#45;&gt;2 -->\r\n",
       "<g id=\"edge2\" class=\"edge\"><title>0&#45;&gt;2</title>\r\n",
       "<path fill=\"none\" stroke=\"black\" d=\"M128.597,-103.726C133.187,-95.0615 138.041,-85.8962 142.658,-77.1802\"/>\r\n",
       "<polygon fill=\"black\" stroke=\"black\" points=\"145.774,-78.7748 147.362,-68.2996 139.588,-75.4982 145.774,-78.7748\"/>\r\n",
       "<text text-anchor=\"middle\" x=\"154.709\" y=\"-88.4956\" font-family=\"Times New Roman,serif\" font-size=\"14.00\">False</text>\r\n",
       "</g>\r\n",
       "</g>\r\n",
       "</svg>\r\n"
      ],
      "text/plain": [
       "<graphviz.files.Source at 0x2872b9132c8>"
      ]
     },
     "execution_count": 28,
     "metadata": {},
     "output_type": "execute_result"
    }
   ],
   "source": [
    "file = open('tree{}.dot'.format(3), 'r')#READING DOT FILE\n",
    "text=file.read()\n",
    "Source(text)"
   ]
  },
  {
   "cell_type": "code",
   "execution_count": 16,
   "metadata": {},
   "outputs": [
    {
     "data": {
      "text/plain": [
       "DecisionTreeClassifier(class_weight=None, criterion='gini', max_depth=None,\n",
       "                       max_features=None, max_leaf_nodes=None,\n",
       "                       min_impurity_decrease=0.0, min_impurity_split=None,\n",
       "                       min_samples_leaf=1, min_samples_split=2,\n",
       "                       min_weight_fraction_leaf=0.0, presort=False,\n",
       "                       random_state=None, splitter='best')"
      ]
     },
     "execution_count": 16,
     "metadata": {},
     "output_type": "execute_result"
    }
   ],
   "source": [
    "tree = DecisionTreeClassifier()\n",
    "\n",
    "tree.fit(data_x_id['X'].values.reshape((-1,1)),data_x_id['target'])"
   ]
  },
  {
   "cell_type": "code",
   "execution_count": 17,
   "metadata": {},
   "outputs": [
    {
     "data": {
      "image/svg+xml": [
       "<?xml version=\"1.0\" encoding=\"UTF-8\" standalone=\"no\"?>\r\n",
       "<!DOCTYPE svg PUBLIC \"-//W3C//DTD SVG 1.1//EN\"\r\n",
       " \"http://www.w3.org/Graphics/SVG/1.1/DTD/svg11.dtd\">\r\n",
       "<!-- Generated by graphviz version 2.38.0 (20140413.2041)\r\n",
       " -->\r\n",
       "<!-- Title: Tree Pages: 1 -->\r\n",
       "<svg width=\"222pt\" height=\"195pt\"\r\n",
       " viewBox=\"0.00 0.00 222.00 195.00\" xmlns=\"http://www.w3.org/2000/svg\" xmlns:xlink=\"http://www.w3.org/1999/xlink\">\r\n",
       "<g id=\"graph0\" class=\"graph\" transform=\"scale(1 1) rotate(0) translate(4 191)\">\r\n",
       "<title>Tree</title>\r\n",
       "<polygon fill=\"white\" stroke=\"none\" points=\"-4,4 -4,-191 218,-191 218,4 -4,4\"/>\r\n",
       "<!-- 0 -->\r\n",
       "<g id=\"node1\" class=\"node\"><title>0</title>\r\n",
       "<polygon fill=\"none\" stroke=\"black\" points=\"159,-187 55,-187 55,-104 159,-104 159,-187\"/>\r\n",
       "<text text-anchor=\"middle\" x=\"107\" y=\"-171.8\" font-family=\"Times New Roman,serif\" font-size=\"14.00\">node #0</text>\r\n",
       "<text text-anchor=\"middle\" x=\"107\" y=\"-156.8\" font-family=\"Times New Roman,serif\" font-size=\"14.00\">X &lt;= 0.5</text>\r\n",
       "<text text-anchor=\"middle\" x=\"107\" y=\"-141.8\" font-family=\"Times New Roman,serif\" font-size=\"14.00\">gini = 0.5</text>\r\n",
       "<text text-anchor=\"middle\" x=\"107\" y=\"-126.8\" font-family=\"Times New Roman,serif\" font-size=\"14.00\">samples = 40</text>\r\n",
       "<text text-anchor=\"middle\" x=\"107\" y=\"-111.8\" font-family=\"Times New Roman,serif\" font-size=\"14.00\">value = [20, 20]</text>\r\n",
       "</g>\r\n",
       "<!-- 1 -->\r\n",
       "<g id=\"node2\" class=\"node\"><title>1</title>\r\n",
       "<polygon fill=\"none\" stroke=\"black\" points=\"98,-68 0,-68 0,-0 98,-0 98,-68\"/>\r\n",
       "<text text-anchor=\"middle\" x=\"49\" y=\"-52.8\" font-family=\"Times New Roman,serif\" font-size=\"14.00\">node #1</text>\r\n",
       "<text text-anchor=\"middle\" x=\"49\" y=\"-37.8\" font-family=\"Times New Roman,serif\" font-size=\"14.00\">gini = 0.0</text>\r\n",
       "<text text-anchor=\"middle\" x=\"49\" y=\"-22.8\" font-family=\"Times New Roman,serif\" font-size=\"14.00\">samples = 20</text>\r\n",
       "<text text-anchor=\"middle\" x=\"49\" y=\"-7.8\" font-family=\"Times New Roman,serif\" font-size=\"14.00\">value = [0, 20]</text>\r\n",
       "</g>\r\n",
       "<!-- 0&#45;&gt;1 -->\r\n",
       "<g id=\"edge1\" class=\"edge\"><title>0&#45;&gt;1</title>\r\n",
       "<path fill=\"none\" stroke=\"black\" d=\"M85.4029,-103.726C80.8134,-95.0615 75.9587,-85.8962 71.342,-77.1802\"/>\r\n",
       "<polygon fill=\"black\" stroke=\"black\" points=\"74.4118,-75.4982 66.6381,-68.2996 68.226,-78.7748 74.4118,-75.4982\"/>\r\n",
       "<text text-anchor=\"middle\" x=\"59.291\" y=\"-88.4956\" font-family=\"Times New Roman,serif\" font-size=\"14.00\">True</text>\r\n",
       "</g>\r\n",
       "<!-- 2 -->\r\n",
       "<g id=\"node3\" class=\"node\"><title>2</title>\r\n",
       "<polygon fill=\"none\" stroke=\"black\" points=\"214,-68 116,-68 116,-0 214,-0 214,-68\"/>\r\n",
       "<text text-anchor=\"middle\" x=\"165\" y=\"-52.8\" font-family=\"Times New Roman,serif\" font-size=\"14.00\">node #2</text>\r\n",
       "<text text-anchor=\"middle\" x=\"165\" y=\"-37.8\" font-family=\"Times New Roman,serif\" font-size=\"14.00\">gini = 0.0</text>\r\n",
       "<text text-anchor=\"middle\" x=\"165\" y=\"-22.8\" font-family=\"Times New Roman,serif\" font-size=\"14.00\">samples = 20</text>\r\n",
       "<text text-anchor=\"middle\" x=\"165\" y=\"-7.8\" font-family=\"Times New Roman,serif\" font-size=\"14.00\">value = [20, 0]</text>\r\n",
       "</g>\r\n",
       "<!-- 0&#45;&gt;2 -->\r\n",
       "<g id=\"edge2\" class=\"edge\"><title>0&#45;&gt;2</title>\r\n",
       "<path fill=\"none\" stroke=\"black\" d=\"M128.597,-103.726C133.187,-95.0615 138.041,-85.8962 142.658,-77.1802\"/>\r\n",
       "<polygon fill=\"black\" stroke=\"black\" points=\"145.774,-78.7748 147.362,-68.2996 139.588,-75.4982 145.774,-78.7748\"/>\r\n",
       "<text text-anchor=\"middle\" x=\"154.709\" y=\"-88.4956\" font-family=\"Times New Roman,serif\" font-size=\"14.00\">False</text>\r\n",
       "</g>\r\n",
       "</g>\r\n",
       "</svg>\r\n"
      ],
      "text/plain": [
       "<graphviz.files.Source at 0x28728c29608>"
      ]
     },
     "execution_count": 17,
     "metadata": {},
     "output_type": "execute_result"
    }
   ],
   "source": [
    "export_graphviz(tree, out_file='tree{}.dot'.format(i),\n",
    "                feature_names=['X'],node_ids=True)\n",
    "file = open('tree.dot', 'r')#READING DOT FILE\n",
    "text=file.read()\n",
    "Source(text)"
   ]
  },
  {
   "cell_type": "code",
   "execution_count": 229,
   "metadata": {},
   "outputs": [
    {
     "data": {
      "text/plain": [
       "'tree.dot.pdf'"
      ]
     },
     "execution_count": 229,
     "metadata": {},
     "output_type": "execute_result"
    }
   ],
   "source": [
    "graph.view()"
   ]
  },
  {
   "cell_type": "code",
   "execution_count": null,
   "metadata": {},
   "outputs": [],
   "source": [
    "#dot.edge\n",
    "data['stages']\n",
    "stroka = \"\"\n",
    "count = 0\n",
    "for i in range(1,len(data['stages'])):       \n",
    "    #print(\"\\\\t{} -> {}\".format(str(data.iloc[i-1]['stages']), str(data.iloc[i]['stages'])))\n",
    "    if \"\\\\t{} -> {}\".format(str(data.iloc[i-1]['stages']), str(data.iloc[i]['stages'])) not in dot.body:\n",
    "        dot.edge(str(data.iloc[i-1]['stages']),str(data.iloc[i]['stages']))    \n",
    "        "
   ]
  }
 ],
 "metadata": {
  "kernelspec": {
   "display_name": "Python 3",
   "language": "python",
   "name": "python3"
  },
  "language_info": {
   "codemirror_mode": {
    "name": "ipython",
    "version": 3
   },
   "file_extension": ".py",
   "mimetype": "text/x-python",
   "name": "python",
   "nbconvert_exporter": "python",
   "pygments_lexer": "ipython3",
   "version": "3.7.4"
  }
 },
 "nbformat": 4,
 "nbformat_minor": 2
}
