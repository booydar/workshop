{
 "cells": [
  {
   "cell_type": "code",
   "execution_count": 2,
   "metadata": {},
   "outputs": [
    {
     "ename": "ModuleNotFoundError",
     "evalue": "No module named 'graphviz'",
     "output_type": "error",
     "traceback": [
      "\u001b[0;31m---------------------------------------------------------------------------\u001b[0m",
      "\u001b[0;31mModuleNotFoundError\u001b[0m                       Traceback (most recent call last)",
      "\u001b[0;32m<ipython-input-2-ffd7b9bfcefa>\u001b[0m in \u001b[0;36m<module>\u001b[0;34m\u001b[0m\n\u001b[1;32m      2\u001b[0m \u001b[0;32mimport\u001b[0m \u001b[0mpandas\u001b[0m \u001b[0;32mas\u001b[0m \u001b[0mpd\u001b[0m\u001b[0;34m\u001b[0m\u001b[0;34m\u001b[0m\u001b[0m\n\u001b[1;32m      3\u001b[0m \u001b[0;32mfrom\u001b[0m \u001b[0msklearn\u001b[0m\u001b[0;34m.\u001b[0m\u001b[0mtree\u001b[0m \u001b[0;32mimport\u001b[0m \u001b[0mexport_graphviz\u001b[0m\u001b[0;34m\u001b[0m\u001b[0;34m\u001b[0m\u001b[0m\n\u001b[0;32m----> 4\u001b[0;31m \u001b[0;32mfrom\u001b[0m \u001b[0mgraphviz\u001b[0m \u001b[0;32mimport\u001b[0m \u001b[0mSource\u001b[0m\u001b[0;34m,\u001b[0m\u001b[0mDigraph\u001b[0m\u001b[0;34m\u001b[0m\u001b[0;34m\u001b[0m\u001b[0m\n\u001b[0m\u001b[1;32m      5\u001b[0m \u001b[0;32mfrom\u001b[0m \u001b[0msklearn\u001b[0m\u001b[0;34m.\u001b[0m\u001b[0mtree\u001b[0m \u001b[0;32mimport\u001b[0m \u001b[0mDecisionTreeClassifier\u001b[0m\u001b[0;34m\u001b[0m\u001b[0;34m\u001b[0m\u001b[0m\n",
      "\u001b[0;31mModuleNotFoundError\u001b[0m: No module named 'graphviz'"
     ]
    }
   ],
   "source": [
    "import numpy as np\n",
    "import pandas as pd\n",
    "from sklearn.tree import export_graphviz\n",
    "from graphviz import Source,Digraph\n",
    "from sklearn.tree import DecisionTreeClassifier"
   ]
  },
  {
   "cell_type": "code",
   "execution_count": 10,
   "metadata": {},
   "outputs": [],
   "source": [
    "array = np.arange(80)\n",
    "data = pd.DataFrame(array)"
   ]
  },
  {
   "cell_type": "code",
   "execution_count": 11,
   "metadata": {},
   "outputs": [],
   "source": [
    "data['stages'] = 0\n",
    "data['X'] = 0"
   ]
  },
  {
   "cell_type": "code",
   "execution_count": 12,
   "metadata": {},
   "outputs": [],
   "source": [
    "data.loc[0:20,'stages'] = data.loc[0:20,'stages'].apply(lambda x: [1,2,4])\n",
    "data.loc[20:40,'stages']= data.loc[20:40,'stages'].apply(lambda x: [1,3,4])\n",
    "data.loc[40:60,'stages']= data.loc[40:60,'stages'].apply(lambda x: [1,3,5,4])\n",
    "data.loc[60:80,'stages']= data.loc[60:80,'stages'].apply(lambda x: [1,4])\n",
    "\n",
    "data.loc[0:20,'X'] = data.loc[0:20,'X'].apply(lambda x:np.random.randint(-10,-1))\n",
    "data.loc[20:40,'X'] = data.loc[20:40,'X'].apply(lambda x:np.random.randint(1,9))\n",
    "data.loc[40:60,'X'] = data.loc[40:60,'X'].apply(lambda x:0)\n",
    "data.loc[60:80,'X'] = data.loc[60:80,'X'].apply(lambda x:np.random.randint(10,20))"
   ]
  },
  {
   "cell_type": "code",
   "execution_count": 13,
   "metadata": {},
   "outputs": [],
   "source": [
    "data = data.explode('stages')\n",
    "data = data.rename(columns = {0:'id'})\n",
    "data['from'] = data.groupby(['id'])['stages'].shift(1)"
   ]
  },
  {
   "cell_type": "code",
   "execution_count": 14,
   "metadata": {},
   "outputs": [],
   "source": [
    "stages = pd.unique(data['stages'])\n",
    "dot = Digraph(comment='Process',format = 'pdf')\n",
    "for i in stages:\n",
    "    dot.node(str(i))"
   ]
  },
  {
   "cell_type": "code",
   "execution_count": 15,
   "metadata": {},
   "outputs": [],
   "source": [
    "b = []\n",
    "edges = []\n",
    "for i in range(1,len(data['stages'])):\n",
    "    if data.iloc[i-1]['id'] == data.iloc[i]['id']:\n",
    "        a = (data.iloc[i-1]['stages'],data.iloc[i]['stages'])\n",
    "        if a not in b:        \n",
    "            b.append(a)\n",
    "for i in b:\n",
    "    edges.append(str(i[0]) + str(i[1]))"
   ]
  },
  {
   "cell_type": "code",
   "execution_count": 16,
   "metadata": {},
   "outputs": [],
   "source": [
    "dot.edges(edges)"
   ]
  },
  {
   "cell_type": "code",
   "execution_count": 17,
   "metadata": {},
   "outputs": [
    {
     "name": "stdout",
     "output_type": "stream",
     "text": [
      "['\\t1 -> 2', '\\t1 -> 3', '\\t1 -> 4']\n",
      "['\\t3 -> 4', '\\t3 -> 5']\n"
     ]
    }
   ],
   "source": [
    "list_id = []\n",
    "for i in stages:\n",
    "    transitions = list(filter(lambda x: '\\t{} ->'.format(i) in x,dot.body))\n",
    "    if len(transitions) > 1:\n",
    "        print(transitions)\n",
    "        list_nodes = list(map(lambda x: list(map(lambda s: int(s.strip()),x.strip().split(\"->\"))),transitions))\n",
    "    \n",
    "        data_x_id = data.loc[data['stages'] == list_nodes[0][0],['id','X']]\n",
    "        \n",
    "        nodes = [node[1] for node in list_nodes]\n",
    "        \n",
    "        for param in nodes:\n",
    "            mask_to = data['stages'] == param\n",
    "            mask_from = data['from'] == list_nodes[0][0]\n",
    "            mask = mask_to & mask_from\n",
    "            list_id.append(data.loc[mask,['id']].values.reshape(-1))        \n",
    "        \n",
    "        for j in range(len(list_id)):\n",
    "            data_x_id.loc[data_x_id['id'].isin(list_id[j]),'target'] = j    \n",
    "        \n",
    "        tree = DecisionTreeClassifier()    \n",
    "        tree.fit(data_x_id['X'].values.reshape((-1,1)),data_x_id['target'])\n",
    "        export_graphviz(tree, out_file='tree{}.dot'.format(i),\n",
    "                feature_names=['X'],node_ids=True)"
   ]
  },
  {
   "cell_type": "code",
   "execution_count": 20,
   "metadata": {},
   "outputs": [
    {
     "data": {
      "image/svg+xml": [
       "<?xml version=\"1.0\" encoding=\"UTF-8\" standalone=\"no\"?>\r\n",
       "<!DOCTYPE svg PUBLIC \"-//W3C//DTD SVG 1.1//EN\"\r\n",
       " \"http://www.w3.org/Graphics/SVG/1.1/DTD/svg11.dtd\">\r\n",
       "<!-- Generated by graphviz version 2.38.0 (20140413.2041)\r\n",
       " -->\r\n",
       "<!-- Title: Tree Pages: 1 -->\r\n",
       "<svg width=\"319pt\" height=\"314pt\"\r\n",
       " viewBox=\"0.00 0.00 319.00 314.00\" xmlns=\"http://www.w3.org/2000/svg\" xmlns:xlink=\"http://www.w3.org/1999/xlink\">\r\n",
       "<g id=\"graph0\" class=\"graph\" transform=\"scale(1 1) rotate(0) translate(4 310)\">\r\n",
       "<title>Tree</title>\r\n",
       "<polygon fill=\"white\" stroke=\"none\" points=\"-4,4 -4,-310 315,-310 315,4 -4,4\"/>\r\n",
       "<!-- 0 -->\r\n",
       "<g id=\"node1\" class=\"node\"><title>0</title>\r\n",
       "<polygon fill=\"none\" stroke=\"black\" points=\"185.5,-306 60.5,-306 60.5,-223 185.5,-223 185.5,-306\"/>\r\n",
       "<text text-anchor=\"middle\" x=\"123\" y=\"-290.8\" font-family=\"Times New Roman,serif\" font-size=\"14.00\">node #0</text>\r\n",
       "<text text-anchor=\"middle\" x=\"123\" y=\"-275.8\" font-family=\"Times New Roman,serif\" font-size=\"14.00\">X &lt;= &#45;1.0</text>\r\n",
       "<text text-anchor=\"middle\" x=\"123\" y=\"-260.8\" font-family=\"Times New Roman,serif\" font-size=\"14.00\">gini = 0.625</text>\r\n",
       "<text text-anchor=\"middle\" x=\"123\" y=\"-245.8\" font-family=\"Times New Roman,serif\" font-size=\"14.00\">samples = 80</text>\r\n",
       "<text text-anchor=\"middle\" x=\"123\" y=\"-230.8\" font-family=\"Times New Roman,serif\" font-size=\"14.00\">value = [20, 40, 20]</text>\r\n",
       "</g>\r\n",
       "<!-- 1 -->\r\n",
       "<g id=\"node2\" class=\"node\"><title>1</title>\r\n",
       "<polygon fill=\"none\" stroke=\"black\" points=\"112,-179.5 7.10543e-015,-179.5 7.10543e-015,-111.5 112,-111.5 112,-179.5\"/>\r\n",
       "<text text-anchor=\"middle\" x=\"56\" y=\"-164.3\" font-family=\"Times New Roman,serif\" font-size=\"14.00\">node #1</text>\r\n",
       "<text text-anchor=\"middle\" x=\"56\" y=\"-149.3\" font-family=\"Times New Roman,serif\" font-size=\"14.00\">gini = 0.0</text>\r\n",
       "<text text-anchor=\"middle\" x=\"56\" y=\"-134.3\" font-family=\"Times New Roman,serif\" font-size=\"14.00\">samples = 20</text>\r\n",
       "<text text-anchor=\"middle\" x=\"56\" y=\"-119.3\" font-family=\"Times New Roman,serif\" font-size=\"14.00\">value = [20, 0, 0]</text>\r\n",
       "</g>\r\n",
       "<!-- 0&#45;&gt;1 -->\r\n",
       "<g id=\"edge1\" class=\"edge\"><title>0&#45;&gt;1</title>\r\n",
       "<path fill=\"none\" stroke=\"black\" d=\"M99.7547,-222.907C93.3726,-211.763 86.441,-199.658 80.0165,-188.439\"/>\r\n",
       "<polygon fill=\"black\" stroke=\"black\" points=\"82.9997,-186.606 74.993,-179.667 76.9252,-190.084 82.9997,-186.606\"/>\r\n",
       "<text text-anchor=\"middle\" x=\"68.4373\" y=\"-200.092\" font-family=\"Times New Roman,serif\" font-size=\"14.00\">True</text>\r\n",
       "</g>\r\n",
       "<!-- 2 -->\r\n",
       "<g id=\"node3\" class=\"node\"><title>2</title>\r\n",
       "<polygon fill=\"none\" stroke=\"black\" points=\"249.5,-187 130.5,-187 130.5,-104 249.5,-104 249.5,-187\"/>\r\n",
       "<text text-anchor=\"middle\" x=\"190\" y=\"-171.8\" font-family=\"Times New Roman,serif\" font-size=\"14.00\">node #2</text>\r\n",
       "<text text-anchor=\"middle\" x=\"190\" y=\"-156.8\" font-family=\"Times New Roman,serif\" font-size=\"14.00\">X &lt;= 9.0</text>\r\n",
       "<text text-anchor=\"middle\" x=\"190\" y=\"-141.8\" font-family=\"Times New Roman,serif\" font-size=\"14.00\">gini = 0.444</text>\r\n",
       "<text text-anchor=\"middle\" x=\"190\" y=\"-126.8\" font-family=\"Times New Roman,serif\" font-size=\"14.00\">samples = 60</text>\r\n",
       "<text text-anchor=\"middle\" x=\"190\" y=\"-111.8\" font-family=\"Times New Roman,serif\" font-size=\"14.00\">value = [0, 40, 20]</text>\r\n",
       "</g>\r\n",
       "<!-- 0&#45;&gt;2 -->\r\n",
       "<g id=\"edge2\" class=\"edge\"><title>0&#45;&gt;2</title>\r\n",
       "<path fill=\"none\" stroke=\"black\" d=\"M146.245,-222.907C151.234,-214.195 156.559,-204.897 161.715,-195.893\"/>\r\n",
       "<polygon fill=\"black\" stroke=\"black\" points=\"164.864,-197.438 166.796,-187.021 158.789,-193.959 164.864,-197.438\"/>\r\n",
       "<text text-anchor=\"middle\" x=\"173.352\" y=\"-207.446\" font-family=\"Times New Roman,serif\" font-size=\"14.00\">False</text>\r\n",
       "</g>\r\n",
       "<!-- 3 -->\r\n",
       "<g id=\"node4\" class=\"node\"><title>3</title>\r\n",
       "<polygon fill=\"none\" stroke=\"black\" points=\"181,-68 69,-68 69,-0 181,-0 181,-68\"/>\r\n",
       "<text text-anchor=\"middle\" x=\"125\" y=\"-52.8\" font-family=\"Times New Roman,serif\" font-size=\"14.00\">node #3</text>\r\n",
       "<text text-anchor=\"middle\" x=\"125\" y=\"-37.8\" font-family=\"Times New Roman,serif\" font-size=\"14.00\">gini = 0.0</text>\r\n",
       "<text text-anchor=\"middle\" x=\"125\" y=\"-22.8\" font-family=\"Times New Roman,serif\" font-size=\"14.00\">samples = 40</text>\r\n",
       "<text text-anchor=\"middle\" x=\"125\" y=\"-7.8\" font-family=\"Times New Roman,serif\" font-size=\"14.00\">value = [0, 40, 0]</text>\r\n",
       "</g>\r\n",
       "<!-- 2&#45;&gt;3 -->\r\n",
       "<g id=\"edge3\" class=\"edge\"><title>2&#45;&gt;3</title>\r\n",
       "<path fill=\"none\" stroke=\"black\" d=\"M165.796,-103.726C160.599,-94.9703 155.098,-85.7032 149.875,-76.9051\"/>\r\n",
       "<polygon fill=\"black\" stroke=\"black\" points=\"152.881,-75.1121 144.767,-68.2996 146.862,-78.6853 152.881,-75.1121\"/>\r\n",
       "</g>\r\n",
       "<!-- 4 -->\r\n",
       "<g id=\"node5\" class=\"node\"><title>4</title>\r\n",
       "<polygon fill=\"none\" stroke=\"black\" points=\"311,-68 199,-68 199,-0 311,-0 311,-68\"/>\r\n",
       "<text text-anchor=\"middle\" x=\"255\" y=\"-52.8\" font-family=\"Times New Roman,serif\" font-size=\"14.00\">node #4</text>\r\n",
       "<text text-anchor=\"middle\" x=\"255\" y=\"-37.8\" font-family=\"Times New Roman,serif\" font-size=\"14.00\">gini = 0.0</text>\r\n",
       "<text text-anchor=\"middle\" x=\"255\" y=\"-22.8\" font-family=\"Times New Roman,serif\" font-size=\"14.00\">samples = 20</text>\r\n",
       "<text text-anchor=\"middle\" x=\"255\" y=\"-7.8\" font-family=\"Times New Roman,serif\" font-size=\"14.00\">value = [0, 0, 20]</text>\r\n",
       "</g>\r\n",
       "<!-- 2&#45;&gt;4 -->\r\n",
       "<g id=\"edge4\" class=\"edge\"><title>2&#45;&gt;4</title>\r\n",
       "<path fill=\"none\" stroke=\"black\" d=\"M214.204,-103.726C219.401,-94.9703 224.902,-85.7032 230.125,-76.9051\"/>\r\n",
       "<polygon fill=\"black\" stroke=\"black\" points=\"233.138,-78.6853 235.233,-68.2996 227.119,-75.1121 233.138,-78.6853\"/>\r\n",
       "</g>\r\n",
       "</g>\r\n",
       "</svg>\r\n"
      ],
      "text/plain": [
       "<graphviz.files.Source at 0x184ba967988>"
      ]
     },
     "execution_count": 20,
     "metadata": {},
     "output_type": "execute_result"
    }
   ],
   "source": [
    "file = open('tree{}.dot'.format(1), 'r')\n",
    "text=file.read()\n",
    "Source(text)"
   ]
  },
  {
   "cell_type": "code",
   "execution_count": 31,
   "metadata": {},
   "outputs": [
    {
     "data": {
      "text/plain": [
       "'Digraph.gv.pdf'"
      ]
     },
     "execution_count": 31,
     "metadata": {},
     "output_type": "execute_result"
    }
   ],
   "source": [
    "dot.view()"
   ]
  }
 ],
 "metadata": {
  "kernelspec": {
   "display_name": "Python 3",
   "language": "python",
   "name": "python3"
  },
  "language_info": {
   "codemirror_mode": {
    "name": "ipython",
    "version": 3
   },
   "file_extension": ".py",
   "mimetype": "text/x-python",
   "name": "python",
   "nbconvert_exporter": "python",
   "pygments_lexer": "ipython3",
   "version": "3.7.3"
  }
 },
 "nbformat": 4,
 "nbformat_minor": 2
}
